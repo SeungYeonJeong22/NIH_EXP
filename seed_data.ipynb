{
 "cells": [
  {
   "cell_type": "code",
   "execution_count": 2,
   "metadata": {},
   "outputs": [
    {
     "data": {
      "text/plain": [
       "10"
      ]
     },
     "execution_count": 2,
     "metadata": {},
     "output_type": "execute_result"
    }
   ],
   "source": [
    "import json\n",
    "import os\n",
    "import random\n",
    "from copy import deepcopy\n",
    "\n",
    "path = \"../data/images_all\"\n",
    "results = {f\"seed_{s}\":{} for s in range(10)}\n",
    "\n",
    "images_orig = os.listdir(path)\n",
    "images_len = len(images_orig)\n",
    "for i in range(10):\n",
    "    images = deepcopy(images_orig)\n",
    "    random.seed(i)\n",
    "    \n",
    "    train_set = random.sample(images, int(images_len * 0.6))\n",
    "    images = [img for img in images if not img in train_set]\n",
    "    \n",
    "    valid_set = random.sample(images, int(images_len * 0.2))\n",
    "    test_set = [img for img in images if not img in valid_set]\n",
    "    \n",
    "    results[f\"seed_{i}\"]['Train_Set'] = train_set\n",
    "    results[f\"seed_{i}\"]['Valid_Set'] = valid_set\n",
    "    results[f\"seed_{i}\"]['Test_Set'] = test_set\n",
    "    \n",
    "len(results)"
   ]
  },
  {
   "cell_type": "code",
   "execution_count": 4,
   "metadata": {},
   "outputs": [
    {
     "name": "stdout",
     "output_type": "stream",
     "text": [
      "['00030146_006.png', '00024426_000.png', '00024504_000.png', '00006605_026.png', '00027290_000.png']\n",
      "['00019426_005.png', '00014072_002.png', '00002686_001.png', '00025758_000.png', '00013894_047.png']\n",
      "['00018957_000.png', '00016743_000.png', '00022832_007.png', '00023211_017.png', '00010948_001.png']\n"
     ]
    }
   ],
   "source": [
    "print(results['seed_0']['Train_Set'][:5])\n",
    "print(results['seed_1']['Train_Set'][:5])\n",
    "print(results['seed_2']['Train_Set'][:5])"
   ]
  },
  {
   "cell_type": "code",
   "execution_count": null,
   "metadata": {},
   "outputs": [],
   "source": []
  }
 ],
 "metadata": {
  "kernelspec": {
   "display_name": "NIH",
   "language": "python",
   "name": "python3"
  },
  "language_info": {
   "codemirror_mode": {
    "name": "ipython",
    "version": 3
   },
   "file_extension": ".py",
   "mimetype": "text/x-python",
   "name": "python",
   "nbconvert_exporter": "python",
   "pygments_lexer": "ipython3",
   "version": "3.9.19"
  }
 },
 "nbformat": 4,
 "nbformat_minor": 2
}
