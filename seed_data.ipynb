{
 "cells": [
  {
   "cell_type": "code",
   "execution_count": 1,
   "metadata": {},
   "outputs": [
    {
     "data": {
      "text/plain": [
       "10"
      ]
     },
     "execution_count": 1,
     "metadata": {},
     "output_type": "execute_result"
    }
   ],
   "source": [
    "import os\n",
    "import random\n",
    "from copy import deepcopy\n",
    "from warnings import filterwarnings\n",
    "filterwarnings('ignore')\n",
    "\n",
    "path = \"../data/images_all\"\n",
    "results = {f\"seed_{s}\":{} for s in range(10)}\n",
    "\n",
    "images_orig = set(os.listdir(path))\n",
    "images_len = len(images_orig)\n",
    "for i in range(10):\n",
    "    images = deepcopy(images_orig)\n",
    "    random.seed(i)\n",
    "    \n",
    "    train_set = sorted(set(random.sample(images, int(images_len * 0.6))))\n",
    "    images = images.difference(train_set)\n",
    "    \n",
    "    valid_set = set(random.sample(images, int(images_len * 0.2)))\n",
    "    test_set = images.difference(valid_set)\n",
    "    \n",
    "    results[f\"seed_{i}\"]['Train_Set'] = list(train_set)\n",
    "    results[f\"seed_{i}\"]['Valid_Set'] = list(valid_set)\n",
    "    results[f\"seed_{i}\"]['Test_Set'] = list(test_set)\n",
    "    \n",
    "len(results)"
   ]
  },
  {
   "cell_type": "code",
   "execution_count": 2,
   "metadata": {},
   "outputs": [
    {
     "name": "stdout",
     "output_type": "stream",
     "text": [
      "['00000001_002.png', '00000002_000.png', '00000003_002.png', '00000003_004.png', '00000003_005.png']\n",
      "['00000001_001.png', '00000001_002.png', '00000003_000.png', '00000003_001.png', '00000003_002.png']\n",
      "['00000001_000.png', '00000001_001.png', '00000001_002.png', '00000003_001.png', '00000003_003.png']\n"
     ]
    }
   ],
   "source": [
    "print(results['seed_0']['Train_Set'][:5])\n",
    "print(results['seed_1']['Train_Set'][:5])\n",
    "print(results['seed_2']['Train_Set'][:5])"
   ]
  },
  {
   "cell_type": "code",
   "execution_count": 3,
   "metadata": {},
   "outputs": [],
   "source": [
    "import json\n",
    "\n",
    "with open(\"./seed_data.json\", 'w') as f:\n",
    "    json.dump(results, f)"
   ]
  },
  {
   "cell_type": "code",
   "execution_count": 4,
   "metadata": {},
   "outputs": [],
   "source": [
    "# Check\n",
    "for i in range(10):\n",
    "    train = set(results[f'seed_{i}']['Train_Set'])\n",
    "    valid = set(results[f'seed_{i}']['Valid_Set'])\n",
    "    test = set(results[f'seed_{i}']['Test_Set'])\n",
    "    \n",
    "    if len(train.difference(valid)) != len(train): print(\"train valid\")\n",
    "    if len(train.difference(test)) != len(train): print(\"train test\")\n",
    "    if len(valid.difference(train)) != len(valid): print(\"valid train\")\n",
    "    if len(valid.difference(test)) != len(valid): print(\"valid test\")\n",
    "    if len(test.difference(train)) != len(valid): print(\"test train\")\n",
    "    if len(test.difference(valid)) != len(valid): print(\"test. valid\")"
   ]
  }
 ],
 "metadata": {
  "kernelspec": {
   "display_name": "NIH",
   "language": "python",
   "name": "python3"
  },
  "language_info": {
   "codemirror_mode": {
    "name": "ipython",
    "version": 3
   },
   "file_extension": ".py",
   "mimetype": "text/x-python",
   "name": "python",
   "nbconvert_exporter": "python",
   "pygments_lexer": "ipython3",
   "version": "3.9.19"
  }
 },
 "nbformat": 4,
 "nbformat_minor": 2
}
