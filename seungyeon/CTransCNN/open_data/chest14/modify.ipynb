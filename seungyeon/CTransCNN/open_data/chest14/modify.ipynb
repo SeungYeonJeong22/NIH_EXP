{
 "cells": [
  {
   "cell_type": "code",
   "execution_count": 21,
   "metadata": {},
   "outputs": [],
   "source": [
    "import os\n",
    "if os.path.exists(\"test_labels_14.txt\"):\n",
    "    os.remove(\"test_labels_14.txt\")\n",
    "\n",
    "if os.path.exists(\"train_val_labels_14.txt\"):\n",
    "    os.remove(\"train_val_labels_14.txt\")\n",
    "\n",
    "save_path = \"../../../../../data/images_all/\"\n",
    "\n",
    "with open(\"add72_chest14_test_labels_orig.txt\", 'r') as file:\n",
    "    data = file.readlines()\n",
    "    for d in data:\n",
    "        img_path, label = d.split(\"\\t\")\n",
    "        img_path = img_path.split(\"/\")[-1]\n",
    "        img_path = save_path + img_path + \"\\t\" + label\n",
    "\n",
    "        with open(\"test_labels_14.txt\", 'a') as f:\n",
    "            f.write(img_path)\n",
    "\n",
    "dt = []\n",
    "with open(\"add72_chest14_train_labels_orig.txt\", 'r') as file:\n",
    "    data = file.readlines()\n",
    "    for d in data:\n",
    "        img_path, label = d.split(\"\\t\")\n",
    "        img_path = img_path.split(\"/\")[-1]\n",
    "        img_path = save_path + img_path + \"\\t\" + label\n",
    "        dt.append(img_path)\n",
    "\n",
    "with open(\"add72_chest14_val_labels_orig.txt\", 'r') as file:\n",
    "    data = file.readlines()\n",
    "    for d in data:\n",
    "        img_path, label = d.split(\"\\t\")\n",
    "        img_path = img_path.split(\"/\")[-1]\n",
    "        img_path = save_path + img_path + \"\\t\" + label\n",
    "        dt.append(img_path)        \n",
    "\n",
    "with open(\"train_val_labels_14.txt\", 'a') as f:\n",
    "    for img_path in dt:\n",
    "        f.write(img_path)\n",
    "    "
   ]
  }
 ],
 "metadata": {
  "kernelspec": {
   "display_name": "ctrans",
   "language": "python",
   "name": "python3"
  },
  "language_info": {
   "codemirror_mode": {
    "name": "ipython",
    "version": 3
   },
   "file_extension": ".py",
   "mimetype": "text/x-python",
   "name": "python",
   "nbconvert_exporter": "python",
   "pygments_lexer": "ipython3",
   "version": "3.9.0"
  }
 },
 "nbformat": 4,
 "nbformat_minor": 2
}
