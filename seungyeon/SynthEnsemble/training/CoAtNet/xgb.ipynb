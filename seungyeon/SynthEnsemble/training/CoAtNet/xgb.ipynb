{
 "cells": [
  {
   "cell_type": "code",
   "execution_count": 1,
   "metadata": {},
   "outputs": [],
   "source": [
    "import os\n",
    "import random\n",
    "import numpy as np\n",
    "import pandas as pd\n",
    "import torch\n",
    "from tqdm import tqdm\n",
    "from glob import glob\n",
    "from sklearn.metrics import accuracy_score, f1_score, roc_auc_score\n",
    "import xgboost as xgb\n",
    "from torchvision import models, transforms\n",
    "from PIL import Image\n",
    "from datetime import datetime\n",
    "from concurrent.futures import ThreadPoolExecutor, as_completed\n",
    "import pickle\n",
    "\n",
    "import xgboost as xgb\n",
    "from sklearn.multiclass import OneVsRestClassifier\n",
    "from sklearn.metrics import accuracy_score, f1_score, roc_auc_score\n",
    "from tqdm.notebook import tqdm\n",
    "import numpy as np\n",
    "\n",
    "from warnings import filterwarnings\n",
    "filterwarnings('ignore')"
   ]
  },
  {
   "cell_type": "code",
   "execution_count": 2,
   "metadata": {},
   "outputs": [],
   "source": [
    "# 재현성을 위해 시드 설정\n",
    "SEED = 85\n",
    "def seed_everything(seed):\n",
    "    random.seed(seed)\n",
    "    os.environ[\"PYTHONHASHSEED\"] = str(seed)\n",
    "    np.random.seed(seed)\n",
    "    torch.manual_seed(seed)\n",
    "    torch.cuda.manual_seed(seed)\n",
    "    torch.backends.cudnn.deterministic = True\n",
    "    torch.backends.cudnn.benchmark = False\n",
    "\n",
    "seed_everything(SEED)"
   ]
  },
  {
   "cell_type": "code",
   "execution_count": 3,
   "metadata": {},
   "outputs": [
    {
     "data": {
      "application/vnd.jupyter.widget-view+json": {
       "model_id": "d081c017d86f4dcc8f8b96673caa56fb",
       "version_major": 2,
       "version_minor": 0
      },
      "text/plain": [
       "  0%|          | 0/15 [00:00<?, ?it/s]"
      ]
     },
     "metadata": {},
     "output_type": "display_data"
    },
    {
     "name": "stdout",
     "output_type": "stream",
     "text": [
      "train_val size 86523\n",
      "test size 25597\n"
     ]
    }
   ],
   "source": [
    "# 데이터 불러오기\n",
    "labels_train_val = pd.read_csv('../../../../..//data/train_val_list.txt')\n",
    "labels_train_val.columns = ['Image_Index']\n",
    "labels_test = pd.read_csv('../../../../..//data/test_list.txt')\n",
    "labels_test.columns = ['Image_Index']\n",
    "\n",
    "disease_labels = ['Atelectasis', 'Consolidation', 'Infiltration', 'Pneumothorax', 'Edema', 'Emphysema', 'Fibrosis', 'Effusion', 'Pneumonia', 'Pleural_Thickening',\n",
    "'Cardiomegaly', 'Nodule', 'Mass', 'Hernia', 'No Finding']\n",
    "\n",
    "labels_df = pd.read_csv('../../../../..//data/Data_Entry_2017.csv')\n",
    "labels_df.columns = ['Image_Index', 'Finding_Labels', 'Follow_Up_#', 'Patient_ID',\n",
    "                     'Patient_Age', 'Patient_Gender', 'View_Position',\n",
    "                     'Original_Image_Width', 'Original_Image_Height',\n",
    "                     'Original_Image_Pixel_Spacing_X',\n",
    "                     'Original_Image_Pixel_Spacing_Y', 'dfd']\n",
    "\n",
    "# One hot encoding\n",
    "for disease in tqdm(disease_labels):\n",
    "    labels_df[disease] = labels_df['Finding_Labels'].map(lambda result: 1 if disease in result else 0)\n",
    "\n",
    "labels_df['Finding_Labels'] = labels_df['Finding_Labels'].apply(lambda s: [l for l in str(s).split('|')])\n",
    "\n",
    "num_glob = glob('../../../../../data/images_all/*.png')\n",
    "img_path = {os.path.basename(x): x for x in num_glob}\n",
    "\n",
    "labels_df['Paths'] = labels_df['Image_Index'].map(img_path.get)\n",
    "\n",
    "train_val_df = labels_df[labels_df['Image_Index'].isin(labels_train_val['Image_Index'])]\n",
    "test_df = labels_df[labels_df['Image_Index'].isin(labels_test['Image_Index'])]\n",
    "\n",
    "print('train_val size', train_val_df.shape[0])\n",
    "print('test size', labels_df.shape[0] - train_val_df.shape[0])\n",
    "\n",
    "# 이미지 전처리\n",
    "preprocess = transforms.Compose([\n",
    "    transforms.Resize((224, 224)),\n",
    "    transforms.ToTensor(),\n",
    "    transforms.Normalize(mean=[0.485, 0.456, 0.406], std=[0.229, 0.224, 0.225]),\n",
    "])\n",
    "\n",
    "# 사전학습된 모델 불러오기\n",
    "model = models.resnet50(pretrained=True)\n",
    "model = torch.nn.Sequential(*(list(model.children())[:-1]))  # 마지막 FC 레이어 제거\n",
    "model.eval()\n",
    "\n",
    "def extract_features(img_path):\n",
    "    img = Image.open(img_path).convert('RGB')\n",
    "    img = preprocess(img)\n",
    "    img = img.unsqueeze(0)\n",
    "    with torch.no_grad():\n",
    "        features = model(img)\n",
    "    return features.numpy().flatten()\n",
    "\n",
    "def process_paths(paths, desc):\n",
    "    with ThreadPoolExecutor() as executor:\n",
    "        futures = {executor.submit(extract_features, path): path for path in paths}\n",
    "        results = []\n",
    "        for future in tqdm(as_completed(futures), total=len(futures), desc=desc):\n",
    "            results.append(future.result())\n",
    "        return results\n",
    "\n",
    "if not os.path.exists(\"train_val_features.pkl\") or not os.path.exists(\"test_features.pkl\"):\n",
    "    # 멀티프로세싱을 사용하여 이미지에서 특징 추출\n",
    "    train_val_paths = train_val_df['Paths'].tolist()\n",
    "    test_paths = test_df['Paths'].tolist()\n",
    "\n",
    "    train_val_features = process_paths(train_val_paths, desc=\"Extracting features train_val_df\")\n",
    "    test_features = process_paths(test_paths, desc=\"Extracting features test_df\")\n",
    "\n",
    "    # train_val 데이터 저장\n",
    "    with open('train_val_features.pkl', 'wb') as f:\n",
    "        pickle.dump({'paths': train_val_paths, 'features': train_val_features}, f)\n",
    "\n",
    "    # test 데이터 저장\n",
    "    with open('test_features.pkl', 'wb') as f:\n",
    "        pickle.dump({'paths': test_paths, 'features': test_features}, f)\n",
    "        \n",
    "else:\n",
    "    # 피클 파일에서 데이터 로드\n",
    "    with open('train_val_features.pkl', 'rb') as f:\n",
    "        train_val_data = pickle.load(f)\n",
    "\n",
    "    with open('test_features.pkl', 'rb') as f:\n",
    "        test_data = pickle.load(f)"
   ]
  },
  {
   "cell_type": "code",
   "execution_count": 4,
   "metadata": {},
   "outputs": [],
   "source": [
    "# # 특징과 레이블 분리\n",
    "X_train = np.stack(train_val_data['features'])\n",
    "y_train = train_val_df[disease_labels].values\n",
    "\n",
    "X_test = np.stack(test_data['features'])\n",
    "y_test = test_df[disease_labels].values\n",
    "\n",
    "num_classes = 15\n",
    "\n",
    "# XGBoost 모델 설정\n",
    "xgb_model = xgb.XGBClassifier(\n",
    "    objective='multi:softprob',\n",
    "    eval_metric='mlogloss',\n",
    "    num_class=num_classes,\n",
    "    use_label_encoder=False,\n",
    "    tree_method='gpu_hist',  # GPU를 사용하도록 설정\n",
    "    gpu_id=3  # 특정 GPU를 지정\n",
    ")\n",
    "\n",
    "# tqdm 콜백 클래스 정의\n",
    "class TqdmCallback(xgb.callback.TrainingCallback):\n",
    "    def __init__(self, total, desc):\n",
    "        self.total = total\n",
    "        self.pbar = tqdm(total=total, desc=desc)\n",
    "\n",
    "    def after_iteration(self, model, epoch, evals_log):\n",
    "        self.pbar.update(1)\n",
    "        if epoch == self.total - 1:\n",
    "            self.pbar.close()\n",
    "        return False\n",
    "\n",
    "# OneVsRestClassifier로 멀티레이블 분류기 설정\n",
    "epochs = 20\n",
    "multilabel_model = OneVsRestClassifier(xgb_model)\n",
    "\n",
    "columns = [\t\"Time\",\n",
    "\t\t\t\"Accuracy\",\n",
    "\t\t\t\"F1_macro\",\n",
    "\t\t\t\"Roc_Auc_macro\"]\n",
    "\n",
    "result_save_path = 'save'\n",
    "\n",
    "init_time = datetime.now()\n",
    "init_time = init_time.strftime('%m%d_%H%M')\n",
    "\n",
    "init_df = pd.DataFrame(columns=columns)\n",
    "csv_name = f'{result_save_path}/{init_time}_xgb_output.csv'\n",
    "init_df.to_csv(csv_name, index=False)"
   ]
  },
  {
   "cell_type": "code",
   "execution_count": 5,
   "metadata": {},
   "outputs": [
    {
     "name": "stdout",
     "output_type": "stream",
     "text": [
      "Model Fit Start\n",
      "Training for label 0\n"
     ]
    },
    {
     "data": {
      "application/vnd.jupyter.widget-view+json": {
       "model_id": "ef58de2dfeb54a63bb2a79aadb3ae79d",
       "version_major": 2,
       "version_minor": 0
      },
      "text/plain": [
       "Training label 0:   0%|          | 0/20 [00:00<?, ?it/s]"
      ]
     },
     "metadata": {},
     "output_type": "display_data"
    },
    {
     "name": "stdout",
     "output_type": "stream",
     "text": [
      "Training for label 1\n"
     ]
    },
    {
     "data": {
      "application/vnd.jupyter.widget-view+json": {
       "model_id": "258676e0ad244e40aefd1abca796d8d6",
       "version_major": 2,
       "version_minor": 0
      },
      "text/plain": [
       "Training label 1:   0%|          | 0/20 [00:00<?, ?it/s]"
      ]
     },
     "metadata": {},
     "output_type": "display_data"
    },
    {
     "name": "stdout",
     "output_type": "stream",
     "text": [
      "Training for label 2\n"
     ]
    },
    {
     "data": {
      "application/vnd.jupyter.widget-view+json": {
       "model_id": "b465116135e54b428c74f24a53d93f91",
       "version_major": 2,
       "version_minor": 0
      },
      "text/plain": [
       "Training label 2:   0%|          | 0/20 [00:00<?, ?it/s]"
      ]
     },
     "metadata": {},
     "output_type": "display_data"
    },
    {
     "name": "stdout",
     "output_type": "stream",
     "text": [
      "Training for label 3\n"
     ]
    },
    {
     "data": {
      "application/vnd.jupyter.widget-view+json": {
       "model_id": "3573bae67f444c06ae4cbd87704aead5",
       "version_major": 2,
       "version_minor": 0
      },
      "text/plain": [
       "Training label 3:   0%|          | 0/20 [00:00<?, ?it/s]"
      ]
     },
     "metadata": {},
     "output_type": "display_data"
    },
    {
     "name": "stdout",
     "output_type": "stream",
     "text": [
      "Training for label 4\n"
     ]
    },
    {
     "data": {
      "application/vnd.jupyter.widget-view+json": {
       "model_id": "be328ce392ca456bbd70c52b21182e33",
       "version_major": 2,
       "version_minor": 0
      },
      "text/plain": [
       "Training label 4:   0%|          | 0/20 [00:00<?, ?it/s]"
      ]
     },
     "metadata": {},
     "output_type": "display_data"
    },
    {
     "name": "stdout",
     "output_type": "stream",
     "text": [
      "Training for label 5\n"
     ]
    },
    {
     "data": {
      "application/vnd.jupyter.widget-view+json": {
       "model_id": "e4814aeaba084ac28547ac615c46eb00",
       "version_major": 2,
       "version_minor": 0
      },
      "text/plain": [
       "Training label 5:   0%|          | 0/20 [00:00<?, ?it/s]"
      ]
     },
     "metadata": {},
     "output_type": "display_data"
    },
    {
     "name": "stdout",
     "output_type": "stream",
     "text": [
      "Training for label 6\n"
     ]
    },
    {
     "data": {
      "application/vnd.jupyter.widget-view+json": {
       "model_id": "d44fc49fb2ec47e9b3d9b9dbbcef86de",
       "version_major": 2,
       "version_minor": 0
      },
      "text/plain": [
       "Training label 6:   0%|          | 0/20 [00:00<?, ?it/s]"
      ]
     },
     "metadata": {},
     "output_type": "display_data"
    },
    {
     "name": "stdout",
     "output_type": "stream",
     "text": [
      "Training for label 7\n"
     ]
    },
    {
     "data": {
      "application/vnd.jupyter.widget-view+json": {
       "model_id": "8cfdd7a81b47452ea5817ed6cfc14489",
       "version_major": 2,
       "version_minor": 0
      },
      "text/plain": [
       "Training label 7:   0%|          | 0/20 [00:00<?, ?it/s]"
      ]
     },
     "metadata": {},
     "output_type": "display_data"
    },
    {
     "name": "stdout",
     "output_type": "stream",
     "text": [
      "Training for label 8\n"
     ]
    },
    {
     "data": {
      "application/vnd.jupyter.widget-view+json": {
       "model_id": "7a68e65a012a44ecba132a2cfd8a9d68",
       "version_major": 2,
       "version_minor": 0
      },
      "text/plain": [
       "Training label 8:   0%|          | 0/20 [00:00<?, ?it/s]"
      ]
     },
     "metadata": {},
     "output_type": "display_data"
    },
    {
     "name": "stdout",
     "output_type": "stream",
     "text": [
      "Training for label 9\n"
     ]
    },
    {
     "data": {
      "application/vnd.jupyter.widget-view+json": {
       "model_id": "b9a460a263d44654b4ab1a66893fed17",
       "version_major": 2,
       "version_minor": 0
      },
      "text/plain": [
       "Training label 9:   0%|          | 0/20 [00:00<?, ?it/s]"
      ]
     },
     "metadata": {},
     "output_type": "display_data"
    },
    {
     "name": "stdout",
     "output_type": "stream",
     "text": [
      "Training for label 10\n"
     ]
    },
    {
     "data": {
      "application/vnd.jupyter.widget-view+json": {
       "model_id": "1495f92a7a7240a68c9cf328e2d1b005",
       "version_major": 2,
       "version_minor": 0
      },
      "text/plain": [
       "Training label 10:   0%|          | 0/20 [00:00<?, ?it/s]"
      ]
     },
     "metadata": {},
     "output_type": "display_data"
    },
    {
     "name": "stdout",
     "output_type": "stream",
     "text": [
      "Training for label 11\n"
     ]
    },
    {
     "data": {
      "application/vnd.jupyter.widget-view+json": {
       "model_id": "bf490f87396248249372aabfb116aa85",
       "version_major": 2,
       "version_minor": 0
      },
      "text/plain": [
       "Training label 11:   0%|          | 0/20 [00:00<?, ?it/s]"
      ]
     },
     "metadata": {},
     "output_type": "display_data"
    },
    {
     "name": "stdout",
     "output_type": "stream",
     "text": [
      "Training for label 12\n"
     ]
    },
    {
     "data": {
      "application/vnd.jupyter.widget-view+json": {
       "model_id": "12bc460b784343bea4d4fad63c70d5fe",
       "version_major": 2,
       "version_minor": 0
      },
      "text/plain": [
       "Training label 12:   0%|          | 0/20 [00:00<?, ?it/s]"
      ]
     },
     "metadata": {},
     "output_type": "display_data"
    },
    {
     "name": "stdout",
     "output_type": "stream",
     "text": [
      "Training for label 13\n"
     ]
    },
    {
     "data": {
      "application/vnd.jupyter.widget-view+json": {
       "model_id": "51f41a71c2d04297b51207eea03458a0",
       "version_major": 2,
       "version_minor": 0
      },
      "text/plain": [
       "Training label 13:   0%|          | 0/20 [00:00<?, ?it/s]"
      ]
     },
     "metadata": {},
     "output_type": "display_data"
    },
    {
     "name": "stdout",
     "output_type": "stream",
     "text": [
      "Training for label 14\n"
     ]
    },
    {
     "data": {
      "application/vnd.jupyter.widget-view+json": {
       "model_id": "b75974d95c8c494982f81e40d5d0f99b",
       "version_major": 2,
       "version_minor": 0
      },
      "text/plain": [
       "Training label 14:   0%|          | 0/20 [00:00<?, ?it/s]"
      ]
     },
     "metadata": {},
     "output_type": "display_data"
    }
   ],
   "source": [
    "# 모델 학습을 위한 맞춤 fit 함수 정의\n",
    "def custom_fit(model, X_train, y_train, epochs):\n",
    "    print(\"Model Fit Start\")\n",
    "\n",
    "    for i in range(y_train.shape[1]):\n",
    "        print(f\"Training for label {i}\")\n",
    "        model.estimator.fit(\n",
    "            X_train, \n",
    "            y_train[:, i], \n",
    "            eval_set=[(X_train, y_train[:, i]), (X_test, y_test[:, i])],\n",
    "            verbose=False, \n",
    "            callbacks=[TqdmCallback(epochs, desc=f'Training label {i}')]\n",
    "        )\n",
    "\n",
    "# 모델 학습\n",
    "custom_fit(multilabel_model, X_train, y_train, epochs)"
   ]
  },
  {
   "cell_type": "code",
   "execution_count": 6,
   "metadata": {},
   "outputs": [
    {
     "name": "stdout",
     "output_type": "stream",
     "text": [
      "Test Accuracy: 0.022152764211760108\n",
      "Test F1 Score (Macro): 0.020737174922037267\n",
      "Test ROC AUC Score (Macro): 0.4948972736133399\n",
      "Class 0 - Accuracy: 0.5162727095135768, F1 Score: 0.19546429267658716, ROC AUC Score: 0.48662868222177436\n",
      "Class 1 - Accuracy: 0.47149833951943737, F1 Score: 0.11559333115397188, ROC AUC Score: 0.47049563607633793\n",
      "Class 2 - Accuracy: 0.7612033600312561, F1 Score: 0.0, ROC AUC Score: 0.4988517266563171\n",
      "Class 3 - Accuracy: 0.895878101191639, F1 Score: 0.0, ROC AUC Score: 0.4933712686216064\n",
      "Class 4 - Accuracy: 0.9638601289314319, F1 Score: 0.0, ROC AUC Score: 0.4891093460708378\n",
      "Class 5 - Accuracy: 0.9572963469427622, F1 Score: 0.0, ROC AUC Score: 0.49860483409573597\n",
      "Class 6 - Accuracy: 0.9830044930650518, F1 Score: 0.0, ROC AUC Score: 0.5219617893755825\n",
      "Class 7 - Accuracy: 0.8180113303379566, F1 Score: 0.0, ROC AUC Score: 0.49914744540312955\n",
      "Class 8 - Accuracy: 0.9783160773588592, F1 Score: 0.0, ROC AUC Score: 0.4959062257145324\n",
      "Class 9 - Accuracy: 0.9553428403985154, F1 Score: 0.0, ROC AUC Score: 0.5043445232890793\n",
      "Class 10 - Accuracy: 0.9582340300840008, F1 Score: 0.0, ROC AUC Score: 0.4922939875493043\n",
      "Class 11 - Accuracy: 0.9365891775737448, F1 Score: 0.0, ROC AUC Score: 0.5106335934745805\n",
      "Class 12 - Accuracy: 0.9317054112131276, F1 Score: 0.0, ROC AUC Score: 0.5062950892412048\n",
      "Class 13 - Accuracy: 0.9966790388747803, F1 Score: 0.0, ROC AUC Score: 0.4533832176539765\n",
      "Class 14 - Accuracy: 0.6147294393436218, F1 Score: 0.0, ROC AUC Score: 0.5024317387561001\n"
     ]
    }
   ],
   "source": [
    "# 예측\n",
    "y_pred = multilabel_model.estimator.predict(X_test)\n",
    "y_pred_proba = multilabel_model.estimator.predict_proba(X_test)  # AUC-ROC 계산을 위해 필요\n",
    "\n",
    "# 정확도 및 F1 스코어 계산\n",
    "accuracy = accuracy_score(y_test, y_pred)\n",
    "f1_micro = f1_score(y_test, y_pred, average='micro')\n",
    "f1_macro = f1_score(y_test, y_pred, average='macro')\n",
    "\n",
    "# AUC-ROC 스코어 계산\n",
    "roc_auc_micro = roc_auc_score(y_test, y_pred_proba, average='micro')\n",
    "roc_auc_macro = roc_auc_score(y_test, y_pred_proba, average='macro')\n",
    "\n",
    "print(f\"Test Accuracy: {accuracy}\")\n",
    "# print(f\"Test F1 Score (Micro): {f1_micro}\")   # 라벨에 상관없이 전체적인 성능 평가 (==accuracy와 동일)\n",
    "print(f\"Test F1 Score (Macro): {f1_macro}\")     # 모든 라벨이 유사한 중요도를 가져 단순 라벨들의 f1_score의 산술평균\n",
    "# print(f\"Test ROC AUC Score (Micro): {roc_auc_micro}\") \n",
    "print(f\"Test ROC AUC Score (Macro): {roc_auc_macro}\")\n",
    "\n",
    "# 각 레이블별 평가 결과 출력\n",
    "for idx in range(y_test.shape[1]):\n",
    "    accuracy_label = accuracy_score(y_test[:, idx], y_pred[:, idx])\n",
    "    f1_label = f1_score(y_test[:, idx], y_pred[:, idx])\n",
    "    roc_auc_label = roc_auc_score(y_test[:, idx], y_pred_proba[:, idx])\n",
    "    print(f\"Class {idx} - Accuracy: {accuracy_label}, F1 Score: {f1_label}, ROC AUC Score: {roc_auc_label}\")\n"
   ]
  },
  {
   "cell_type": "code",
   "execution_count": 7,
   "metadata": {},
   "outputs": [],
   "source": [
    "#######################\n",
    "now = datetime.now() \n",
    "csv_record_time = now.strftime('%Y%m%d_%H%M%S')\n",
    "csv_accuracy = f\"{accuracy:.4f}\"\n",
    "csv_f1_macro = f\"{f1_macro:.4f}\"\n",
    "csv_roc_auc_macro = f\"{roc_auc_macro:.4f}\"\n",
    "\n",
    "csv_data = [csv_record_time,\n",
    "            csv_accuracy,\n",
    "            csv_f1_macro,\n",
    "            csv_roc_auc_macro]\n",
    "\n",
    "df = pd.DataFrame([csv_data], columns=columns)\n",
    "df.to_csv(csv_name, mode='a', header=False, index=False)\n",
    "##########################"
   ]
  },
  {
   "cell_type": "code",
   "execution_count": null,
   "metadata": {},
   "outputs": [],
   "source": []
  }
 ],
 "metadata": {
  "kernelspec": {
   "display_name": "nih_syn",
   "language": "python",
   "name": "python3"
  },
  "language_info": {
   "codemirror_mode": {
    "name": "ipython",
    "version": 3
   },
   "file_extension": ".py",
   "mimetype": "text/x-python",
   "name": "python",
   "nbconvert_exporter": "python",
   "pygments_lexer": "ipython3",
   "version": "3.9.19"
  }
 },
 "nbformat": 4,
 "nbformat_minor": 2
}
