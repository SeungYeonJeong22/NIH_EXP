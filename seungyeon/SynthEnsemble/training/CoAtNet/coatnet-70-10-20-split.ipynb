{
 "cells": [
  {
   "cell_type": "code",
   "execution_count": 1,
   "id": "d0ff72c8",
   "metadata": {
    "_cell_guid": "55935d31-2694-45da-a34a-94261649439c",
    "_uuid": "e97fa043-02da-4543-b1ac-513ffc44dec2",
    "collapsed": false,
    "execution": {
     "iopub.execute_input": "2023-07-22T17:13:05.403996Z",
     "iopub.status.busy": "2023-07-22T17:13:05.402973Z",
     "iopub.status.idle": "2023-07-22T17:13:11.860799Z",
     "shell.execute_reply": "2023-07-22T17:13:11.859673Z"
    },
    "jupyter": {
     "outputs_hidden": false
    },
    "papermill": {
     "duration": 6.467606,
     "end_time": "2023-07-22T17:13:11.863591",
     "exception": false,
     "start_time": "2023-07-22T17:13:05.395985",
     "status": "completed"
    },
    "tags": []
   },
   "outputs": [
    {
     "name": "stderr",
     "output_type": "stream",
     "text": [
      "/userHome/userhome4/seungyeon/miniconda3/envs/nih_syn/lib/python3.9/site-packages/tqdm/auto.py:21: TqdmWarning: IProgress not found. Please update jupyter and ipywidgets. See https://ipywidgets.readthedocs.io/en/stable/user_install.html\n",
      "  from .autonotebook import tqdm as notebook_tqdm\n"
     ]
    }
   ],
   "source": [
    "import fastai\n",
    "from fastai.vision.all import *\n",
    "from tqdm import tqdm\n",
    "from glob import glob"
   ]
  },
  {
   "cell_type": "code",
   "execution_count": 2,
   "id": "2c17a69a",
   "metadata": {
    "_cell_guid": "738a2e57-62b1-4cd1-970c-e9505a16a5b5",
    "_uuid": "08422815-d5d5-4f12-93bf-58e031e70dda",
    "collapsed": false,
    "execution": {
     "iopub.execute_input": "2023-07-22T17:13:11.883316Z",
     "iopub.status.busy": "2023-07-22T17:13:11.882766Z",
     "iopub.status.idle": "2023-07-22T17:13:11.898673Z",
     "shell.execute_reply": "2023-07-22T17:13:11.897762Z"
    },
    "jupyter": {
     "outputs_hidden": false
    },
    "papermill": {
     "duration": 0.029992,
     "end_time": "2023-07-22T17:13:11.901695",
     "exception": false,
     "start_time": "2023-07-22T17:13:11.871703",
     "status": "completed"
    },
    "tags": []
   },
   "outputs": [],
   "source": [
    "SEED = 85\n",
    "def seed_everything(seed):\n",
    "    random.seed(seed)\n",
    "    os.environ[\"PYTHONHASHSEED\"] = str(seed)\n",
    "    np.random.seed(seed)\n",
    "    torch.manual_seed(seed)\n",
    "    torch.cuda.manual_seed(seed)\n",
    "    torch.backends.cudnn.deterministic = True\n",
    "    torch.backends.cudnn.benchmark = False\n",
    "\n",
    "seed_everything(SEED)"
   ]
  },
  {
   "cell_type": "code",
   "execution_count": 3,
   "id": "67df7473",
   "metadata": {
    "_cell_guid": "4e4d9570-14a8-46bd-a77b-4c59057d578e",
    "_uuid": "a146646c-ca7b-4441-869a-7407da42f4b0",
    "collapsed": false,
    "execution": {
     "iopub.execute_input": "2023-07-22T17:13:11.926063Z",
     "iopub.status.busy": "2023-07-22T17:13:11.925584Z",
     "iopub.status.idle": "2023-07-22T17:13:13.379437Z",
     "shell.execute_reply": "2023-07-22T17:13:13.378471Z"
    },
    "jupyter": {
     "outputs_hidden": false
    },
    "papermill": {
     "duration": 1.469131,
     "end_time": "2023-07-22T17:13:13.381691",
     "exception": false,
     "start_time": "2023-07-22T17:13:11.912560",
     "status": "completed"
    },
    "tags": []
   },
   "outputs": [
    {
     "name": "stderr",
     "output_type": "stream",
     "text": [
      "100%|██████████| 14/14 [00:00<00:00, 35.41it/s]\n"
     ]
    }
   ],
   "source": [
    "labels_train_val = pd.read_csv('../../../../..//data/train_val_list.txt')\n",
    "labels_train_val.columns = ['Image_Index']\n",
    "labels_test = pd.read_csv('../../../../..//data/test_list.txt')\n",
    "labels_test.columns = ['Image_Index']\n",
    "disease_labels = ['Atelectasis', 'Consolidation', 'Infiltration', 'Pneumothorax', 'Edema', 'Emphysema', 'Fibrosis', 'Effusion', 'Pneumonia', 'Pleural_Thickening',\n",
    "'Cardiomegaly', 'Nodule', 'Mass', 'Hernia']\n",
    "# NIH Dataset Labels CSV File \n",
    "labels_df = pd.read_csv('../../../../..//data/Data_Entry_2017.csv')\n",
    "labels_df.columns = ['Image_Index', 'Finding_Labels', 'Follow_Up_#', 'Patient_ID',\n",
    "                  'Patient_Age', 'Patient_Gender', 'View_Position',\n",
    "                  'Original_Image_Width', 'Original_Image_Height',\n",
    "                  'Original_Image_Pixel_Spacing_X',\n",
    "                  'Original_Image_Pixel_Spacing_Y', 'dfd']\n",
    "# One hot encoding\n",
    "for diseases in tqdm(disease_labels): \n",
    "    labels_df[diseases] = labels_df['Finding_Labels'].map(lambda result: 1 if diseases in result else 0)\n",
    "\n",
    "# labels_df.to_csv('/kaggle/working/newData.csv')\n",
    "labels_df=labels_df[labels_df.Finding_Labels != 'No Finding']\n",
    "# #labels_df.head(3)"
   ]
  },
  {
   "cell_type": "code",
   "execution_count": 4,
   "id": "ef97d370",
   "metadata": {
    "_cell_guid": "e00c2fca-fb51-4231-a493-2b62f43b83eb",
    "_uuid": "5a632ffd-8096-481a-bc78-4192c1663625",
    "collapsed": false,
    "execution": {
     "iopub.execute_input": "2023-07-22T17:13:13.396175Z",
     "iopub.status.busy": "2023-07-22T17:13:13.395820Z",
     "iopub.status.idle": "2023-07-22T17:13:15.936492Z",
     "shell.execute_reply": "2023-07-22T17:13:15.935193Z"
    },
    "jupyter": {
     "outputs_hidden": false
    },
    "papermill": {
     "duration": 2.551485,
     "end_time": "2023-07-22T17:13:15.939376",
     "exception": false,
     "start_time": "2023-07-22T17:13:13.387891",
     "status": "completed"
    },
    "tags": []
   },
   "outputs": [
    {
     "data": {
      "text/html": [
       "<div>\n",
       "<style scoped>\n",
       "    .dataframe tbody tr th:only-of-type {\n",
       "        vertical-align: middle;\n",
       "    }\n",
       "\n",
       "    .dataframe tbody tr th {\n",
       "        vertical-align: top;\n",
       "    }\n",
       "\n",
       "    .dataframe thead th {\n",
       "        text-align: right;\n",
       "    }\n",
       "</style>\n",
       "<table border=\"1\" class=\"dataframe\">\n",
       "  <thead>\n",
       "    <tr style=\"text-align: right;\">\n",
       "      <th></th>\n",
       "      <th>Image_Index</th>\n",
       "      <th>Finding_Labels</th>\n",
       "      <th>Follow_Up_#</th>\n",
       "      <th>Patient_ID</th>\n",
       "      <th>Patient_Age</th>\n",
       "      <th>Patient_Gender</th>\n",
       "      <th>View_Position</th>\n",
       "      <th>Original_Image_Width</th>\n",
       "      <th>Original_Image_Height</th>\n",
       "      <th>Original_Image_Pixel_Spacing_X</th>\n",
       "      <th>...</th>\n",
       "      <th>Emphysema</th>\n",
       "      <th>Fibrosis</th>\n",
       "      <th>Effusion</th>\n",
       "      <th>Pneumonia</th>\n",
       "      <th>Pleural_Thickening</th>\n",
       "      <th>Cardiomegaly</th>\n",
       "      <th>Nodule</th>\n",
       "      <th>Mass</th>\n",
       "      <th>Hernia</th>\n",
       "      <th>Paths</th>\n",
       "    </tr>\n",
       "  </thead>\n",
       "  <tbody>\n",
       "    <tr>\n",
       "      <th>0</th>\n",
       "      <td>00000001_000.png</td>\n",
       "      <td>[Cardiomegaly]</td>\n",
       "      <td>0</td>\n",
       "      <td>1</td>\n",
       "      <td>58</td>\n",
       "      <td>M</td>\n",
       "      <td>PA</td>\n",
       "      <td>2682</td>\n",
       "      <td>2749</td>\n",
       "      <td>0.143</td>\n",
       "      <td>...</td>\n",
       "      <td>0</td>\n",
       "      <td>0</td>\n",
       "      <td>0</td>\n",
       "      <td>0</td>\n",
       "      <td>0</td>\n",
       "      <td>1</td>\n",
       "      <td>0</td>\n",
       "      <td>0</td>\n",
       "      <td>0</td>\n",
       "      <td>../../../../../data/images_all/00000001_000.png</td>\n",
       "    </tr>\n",
       "    <tr>\n",
       "      <th>1</th>\n",
       "      <td>00000001_001.png</td>\n",
       "      <td>[Cardiomegaly, Emphysema]</td>\n",
       "      <td>1</td>\n",
       "      <td>1</td>\n",
       "      <td>58</td>\n",
       "      <td>M</td>\n",
       "      <td>PA</td>\n",
       "      <td>2894</td>\n",
       "      <td>2729</td>\n",
       "      <td>0.143</td>\n",
       "      <td>...</td>\n",
       "      <td>1</td>\n",
       "      <td>0</td>\n",
       "      <td>0</td>\n",
       "      <td>0</td>\n",
       "      <td>0</td>\n",
       "      <td>1</td>\n",
       "      <td>0</td>\n",
       "      <td>0</td>\n",
       "      <td>0</td>\n",
       "      <td>../../../../../data/images_all/00000001_001.png</td>\n",
       "    </tr>\n",
       "    <tr>\n",
       "      <th>2</th>\n",
       "      <td>00000001_002.png</td>\n",
       "      <td>[Cardiomegaly, Effusion]</td>\n",
       "      <td>2</td>\n",
       "      <td>1</td>\n",
       "      <td>58</td>\n",
       "      <td>M</td>\n",
       "      <td>PA</td>\n",
       "      <td>2500</td>\n",
       "      <td>2048</td>\n",
       "      <td>0.168</td>\n",
       "      <td>...</td>\n",
       "      <td>0</td>\n",
       "      <td>0</td>\n",
       "      <td>1</td>\n",
       "      <td>0</td>\n",
       "      <td>0</td>\n",
       "      <td>1</td>\n",
       "      <td>0</td>\n",
       "      <td>0</td>\n",
       "      <td>0</td>\n",
       "      <td>../../../../../data/images_all/00000001_002.png</td>\n",
       "    </tr>\n",
       "    <tr>\n",
       "      <th>4</th>\n",
       "      <td>00000003_000.png</td>\n",
       "      <td>[Hernia]</td>\n",
       "      <td>0</td>\n",
       "      <td>3</td>\n",
       "      <td>81</td>\n",
       "      <td>F</td>\n",
       "      <td>PA</td>\n",
       "      <td>2582</td>\n",
       "      <td>2991</td>\n",
       "      <td>0.143</td>\n",
       "      <td>...</td>\n",
       "      <td>0</td>\n",
       "      <td>0</td>\n",
       "      <td>0</td>\n",
       "      <td>0</td>\n",
       "      <td>0</td>\n",
       "      <td>0</td>\n",
       "      <td>0</td>\n",
       "      <td>0</td>\n",
       "      <td>1</td>\n",
       "      <td>../../../../../data/images_all/00000003_000.png</td>\n",
       "    </tr>\n",
       "    <tr>\n",
       "      <th>5</th>\n",
       "      <td>00000003_001.png</td>\n",
       "      <td>[Hernia]</td>\n",
       "      <td>1</td>\n",
       "      <td>3</td>\n",
       "      <td>74</td>\n",
       "      <td>F</td>\n",
       "      <td>PA</td>\n",
       "      <td>2500</td>\n",
       "      <td>2048</td>\n",
       "      <td>0.168</td>\n",
       "      <td>...</td>\n",
       "      <td>0</td>\n",
       "      <td>0</td>\n",
       "      <td>0</td>\n",
       "      <td>0</td>\n",
       "      <td>0</td>\n",
       "      <td>0</td>\n",
       "      <td>0</td>\n",
       "      <td>0</td>\n",
       "      <td>1</td>\n",
       "      <td>../../../../../data/images_all/00000003_001.png</td>\n",
       "    </tr>\n",
       "  </tbody>\n",
       "</table>\n",
       "<p>5 rows × 27 columns</p>\n",
       "</div>"
      ],
      "text/plain": [
       "        Image_Index             Finding_Labels  Follow_Up_#  Patient_ID  \\\n",
       "0  00000001_000.png             [Cardiomegaly]            0           1   \n",
       "1  00000001_001.png  [Cardiomegaly, Emphysema]            1           1   \n",
       "2  00000001_002.png   [Cardiomegaly, Effusion]            2           1   \n",
       "4  00000003_000.png                   [Hernia]            0           3   \n",
       "5  00000003_001.png                   [Hernia]            1           3   \n",
       "\n",
       "   Patient_Age Patient_Gender View_Position  Original_Image_Width  \\\n",
       "0           58              M            PA                  2682   \n",
       "1           58              M            PA                  2894   \n",
       "2           58              M            PA                  2500   \n",
       "4           81              F            PA                  2582   \n",
       "5           74              F            PA                  2500   \n",
       "\n",
       "   Original_Image_Height  Original_Image_Pixel_Spacing_X  ...  Emphysema  \\\n",
       "0                   2749                           0.143  ...          0   \n",
       "1                   2729                           0.143  ...          1   \n",
       "2                   2048                           0.168  ...          0   \n",
       "4                   2991                           0.143  ...          0   \n",
       "5                   2048                           0.168  ...          0   \n",
       "\n",
       "   Fibrosis  Effusion  Pneumonia  Pleural_Thickening  Cardiomegaly  Nodule  \\\n",
       "0         0         0          0                   0             1       0   \n",
       "1         0         0          0                   0             1       0   \n",
       "2         0         1          0                   0             1       0   \n",
       "4         0         0          0                   0             0       0   \n",
       "5         0         0          0                   0             0       0   \n",
       "\n",
       "   Mass  Hernia                                            Paths  \n",
       "0     0       0  ../../../../../data/images_all/00000001_000.png  \n",
       "1     0       0  ../../../../../data/images_all/00000001_001.png  \n",
       "2     0       0  ../../../../../data/images_all/00000001_002.png  \n",
       "4     0       1  ../../../../../data/images_all/00000003_000.png  \n",
       "5     0       1  ../../../../../data/images_all/00000003_001.png  \n",
       "\n",
       "[5 rows x 27 columns]"
      ]
     },
     "execution_count": 4,
     "metadata": {},
     "output_type": "execute_result"
    }
   ],
   "source": [
    "\n",
    "labels_df['Finding_Labels'] = labels_df['Finding_Labels'].apply(lambda s: [l for l in str(s).split('|')])\n",
    "\n",
    "num_glob = glob('../../../../../data/images_all/*.png')\n",
    "img_path = {os.path.basename(x): x for x in num_glob}\n",
    "\n",
    "labels_df['Paths'] = labels_df['Image_Index'].map(img_path.get)\n",
    "labels_df.head()"
   ]
  },
  {
   "cell_type": "code",
   "execution_count": 5,
   "id": "ef9bcba9",
   "metadata": {
    "_cell_guid": "1052fa10-fd86-4042-ae7b-ec09fbba0d86",
    "_uuid": "ba306f3c-3183-4087-8143-e385f83a22df",
    "collapsed": false,
    "execution": {
     "iopub.execute_input": "2023-07-22T17:13:15.955045Z",
     "iopub.status.busy": "2023-07-22T17:13:15.954261Z",
     "iopub.status.idle": "2023-07-22T17:13:15.962053Z",
     "shell.execute_reply": "2023-07-22T17:13:15.961054Z"
    },
    "jupyter": {
     "outputs_hidden": false
    },
    "papermill": {
     "duration": 0.017702,
     "end_time": "2023-07-22T17:13:15.964238",
     "exception": false,
     "start_time": "2023-07-22T17:13:15.946536",
     "status": "completed"
    },
    "tags": []
   },
   "outputs": [
    {
     "data": {
      "text/plain": [
       "14402"
      ]
     },
     "execution_count": 5,
     "metadata": {},
     "output_type": "execute_result"
    }
   ],
   "source": [
    "unique_patients = np.unique(labels_df['Patient_ID'])\n",
    "len(unique_patients)"
   ]
  },
  {
   "cell_type": "code",
   "execution_count": 6,
   "id": "a54babfe",
   "metadata": {
    "_cell_guid": "8ff1d9c5-1b3e-4747-8716-f0c811db89d8",
    "_uuid": "31d9e8b0-d79f-4b79-8f89-2bfaa6e7ab99",
    "collapsed": false,
    "execution": {
     "iopub.execute_input": "2023-07-22T17:13:15.977979Z",
     "iopub.status.busy": "2023-07-22T17:13:15.977686Z",
     "iopub.status.idle": "2023-07-22T17:13:15.987211Z",
     "shell.execute_reply": "2023-07-22T17:13:15.986315Z"
    },
    "jupyter": {
     "outputs_hidden": false
    },
    "papermill": {
     "duration": 0.01867,
     "end_time": "2023-07-22T17:13:15.989196",
     "exception": false,
     "start_time": "2023-07-22T17:13:15.970526",
     "status": "completed"
    },
    "tags": []
   },
   "outputs": [
    {
     "data": {
      "text/plain": [
       "11521"
      ]
     },
     "execution_count": 6,
     "metadata": {},
     "output_type": "execute_result"
    }
   ],
   "source": [
    "from sklearn.model_selection import train_test_split\n",
    "\n",
    "# train-70\n",
    "# val-10\n",
    "# test-20\n",
    "train_val_df_patients, test_df_patients = train_test_split(unique_patients, \n",
    "                                   test_size = 0.2,\n",
    "                                   random_state = SEED,\n",
    "                                    shuffle= True\n",
    "                                   )\n",
    "len(train_val_df_patients)"
   ]
  },
  {
   "cell_type": "code",
   "execution_count": 7,
   "id": "70731a31",
   "metadata": {
    "_cell_guid": "dc7d2e26-3cd9-4631-9fc5-62e3b856893a",
    "_uuid": "5060ce8a-6576-434f-93f5-927f625d461a",
    "collapsed": false,
    "execution": {
     "iopub.execute_input": "2023-07-22T17:13:16.004039Z",
     "iopub.status.busy": "2023-07-22T17:13:16.003269Z",
     "iopub.status.idle": "2023-07-22T17:13:16.022144Z",
     "shell.execute_reply": "2023-07-22T17:13:16.021277Z"
    },
    "jupyter": {
     "outputs_hidden": false
    },
    "papermill": {
     "duration": 0.028312,
     "end_time": "2023-07-22T17:13:16.024355",
     "exception": false,
     "start_time": "2023-07-22T17:13:15.996043",
     "status": "completed"
    },
    "tags": []
   },
   "outputs": [],
   "source": [
    "train_val_df = labels_df[labels_df['Patient_ID'].isin(train_val_df_patients)]"
   ]
  },
  {
   "cell_type": "code",
   "execution_count": 8,
   "id": "ad74944e",
   "metadata": {
    "_cell_guid": "47af73dc-5657-479e-9a12-cf79a4f16807",
    "_uuid": "ce4122ec-3f90-4da8-ae78-6fb3ed4921c7",
    "collapsed": false,
    "execution": {
     "iopub.execute_input": "2023-07-22T17:13:16.039073Z",
     "iopub.status.busy": "2023-07-22T17:13:16.038305Z",
     "iopub.status.idle": "2023-07-22T17:13:16.061255Z",
     "shell.execute_reply": "2023-07-22T17:13:16.060174Z"
    },
    "jupyter": {
     "outputs_hidden": false
    },
    "papermill": {
     "duration": 0.033049,
     "end_time": "2023-07-22T17:13:16.064003",
     "exception": false,
     "start_time": "2023-07-22T17:13:16.030954",
     "status": "completed"
    },
    "tags": []
   },
   "outputs": [
    {
     "data": {
      "text/html": [
       "<div>\n",
       "<style scoped>\n",
       "    .dataframe tbody tr th:only-of-type {\n",
       "        vertical-align: middle;\n",
       "    }\n",
       "\n",
       "    .dataframe tbody tr th {\n",
       "        vertical-align: top;\n",
       "    }\n",
       "\n",
       "    .dataframe thead th {\n",
       "        text-align: right;\n",
       "    }\n",
       "</style>\n",
       "<table border=\"1\" class=\"dataframe\">\n",
       "  <thead>\n",
       "    <tr style=\"text-align: right;\">\n",
       "      <th></th>\n",
       "      <th>Image_Index</th>\n",
       "      <th>Finding_Labels</th>\n",
       "      <th>Follow_Up_#</th>\n",
       "      <th>Patient_ID</th>\n",
       "      <th>Patient_Age</th>\n",
       "      <th>Patient_Gender</th>\n",
       "      <th>View_Position</th>\n",
       "      <th>Original_Image_Width</th>\n",
       "      <th>Original_Image_Height</th>\n",
       "      <th>Original_Image_Pixel_Spacing_X</th>\n",
       "      <th>...</th>\n",
       "      <th>Emphysema</th>\n",
       "      <th>Fibrosis</th>\n",
       "      <th>Effusion</th>\n",
       "      <th>Pneumonia</th>\n",
       "      <th>Pleural_Thickening</th>\n",
       "      <th>Cardiomegaly</th>\n",
       "      <th>Nodule</th>\n",
       "      <th>Mass</th>\n",
       "      <th>Hernia</th>\n",
       "      <th>Paths</th>\n",
       "    </tr>\n",
       "  </thead>\n",
       "  <tbody>\n",
       "    <tr>\n",
       "      <th>0</th>\n",
       "      <td>00000001_000.png</td>\n",
       "      <td>[Cardiomegaly]</td>\n",
       "      <td>0</td>\n",
       "      <td>1</td>\n",
       "      <td>58</td>\n",
       "      <td>M</td>\n",
       "      <td>PA</td>\n",
       "      <td>2682</td>\n",
       "      <td>2749</td>\n",
       "      <td>0.143</td>\n",
       "      <td>...</td>\n",
       "      <td>0</td>\n",
       "      <td>0</td>\n",
       "      <td>0</td>\n",
       "      <td>0</td>\n",
       "      <td>0</td>\n",
       "      <td>1</td>\n",
       "      <td>0</td>\n",
       "      <td>0</td>\n",
       "      <td>0</td>\n",
       "      <td>../../../../../data/images_all/00000001_000.png</td>\n",
       "    </tr>\n",
       "    <tr>\n",
       "      <th>1</th>\n",
       "      <td>00000001_001.png</td>\n",
       "      <td>[Cardiomegaly, Emphysema]</td>\n",
       "      <td>1</td>\n",
       "      <td>1</td>\n",
       "      <td>58</td>\n",
       "      <td>M</td>\n",
       "      <td>PA</td>\n",
       "      <td>2894</td>\n",
       "      <td>2729</td>\n",
       "      <td>0.143</td>\n",
       "      <td>...</td>\n",
       "      <td>1</td>\n",
       "      <td>0</td>\n",
       "      <td>0</td>\n",
       "      <td>0</td>\n",
       "      <td>0</td>\n",
       "      <td>1</td>\n",
       "      <td>0</td>\n",
       "      <td>0</td>\n",
       "      <td>0</td>\n",
       "      <td>../../../../../data/images_all/00000001_001.png</td>\n",
       "    </tr>\n",
       "    <tr>\n",
       "      <th>2</th>\n",
       "      <td>00000001_002.png</td>\n",
       "      <td>[Cardiomegaly, Effusion]</td>\n",
       "      <td>2</td>\n",
       "      <td>1</td>\n",
       "      <td>58</td>\n",
       "      <td>M</td>\n",
       "      <td>PA</td>\n",
       "      <td>2500</td>\n",
       "      <td>2048</td>\n",
       "      <td>0.168</td>\n",
       "      <td>...</td>\n",
       "      <td>0</td>\n",
       "      <td>0</td>\n",
       "      <td>1</td>\n",
       "      <td>0</td>\n",
       "      <td>0</td>\n",
       "      <td>1</td>\n",
       "      <td>0</td>\n",
       "      <td>0</td>\n",
       "      <td>0</td>\n",
       "      <td>../../../../../data/images_all/00000001_002.png</td>\n",
       "    </tr>\n",
       "    <tr>\n",
       "      <th>12</th>\n",
       "      <td>00000004_000.png</td>\n",
       "      <td>[Mass, Nodule]</td>\n",
       "      <td>0</td>\n",
       "      <td>4</td>\n",
       "      <td>82</td>\n",
       "      <td>M</td>\n",
       "      <td>AP</td>\n",
       "      <td>2500</td>\n",
       "      <td>2048</td>\n",
       "      <td>0.168</td>\n",
       "      <td>...</td>\n",
       "      <td>0</td>\n",
       "      <td>0</td>\n",
       "      <td>0</td>\n",
       "      <td>0</td>\n",
       "      <td>0</td>\n",
       "      <td>0</td>\n",
       "      <td>1</td>\n",
       "      <td>1</td>\n",
       "      <td>0</td>\n",
       "      <td>../../../../../data/images_all/00000004_000.png</td>\n",
       "    </tr>\n",
       "    <tr>\n",
       "      <th>19</th>\n",
       "      <td>00000005_006.png</td>\n",
       "      <td>[Infiltration]</td>\n",
       "      <td>6</td>\n",
       "      <td>5</td>\n",
       "      <td>70</td>\n",
       "      <td>F</td>\n",
       "      <td>PA</td>\n",
       "      <td>2992</td>\n",
       "      <td>2991</td>\n",
       "      <td>0.143</td>\n",
       "      <td>...</td>\n",
       "      <td>0</td>\n",
       "      <td>0</td>\n",
       "      <td>0</td>\n",
       "      <td>0</td>\n",
       "      <td>0</td>\n",
       "      <td>0</td>\n",
       "      <td>0</td>\n",
       "      <td>0</td>\n",
       "      <td>0</td>\n",
       "      <td>../../../../../data/images_all/00000005_006.png</td>\n",
       "    </tr>\n",
       "  </tbody>\n",
       "</table>\n",
       "<p>5 rows × 27 columns</p>\n",
       "</div>"
      ],
      "text/plain": [
       "         Image_Index             Finding_Labels  Follow_Up_#  Patient_ID  \\\n",
       "0   00000001_000.png             [Cardiomegaly]            0           1   \n",
       "1   00000001_001.png  [Cardiomegaly, Emphysema]            1           1   \n",
       "2   00000001_002.png   [Cardiomegaly, Effusion]            2           1   \n",
       "12  00000004_000.png             [Mass, Nodule]            0           4   \n",
       "19  00000005_006.png             [Infiltration]            6           5   \n",
       "\n",
       "    Patient_Age Patient_Gender View_Position  Original_Image_Width  \\\n",
       "0            58              M            PA                  2682   \n",
       "1            58              M            PA                  2894   \n",
       "2            58              M            PA                  2500   \n",
       "12           82              M            AP                  2500   \n",
       "19           70              F            PA                  2992   \n",
       "\n",
       "    Original_Image_Height  Original_Image_Pixel_Spacing_X  ...  Emphysema  \\\n",
       "0                    2749                           0.143  ...          0   \n",
       "1                    2729                           0.143  ...          1   \n",
       "2                    2048                           0.168  ...          0   \n",
       "12                   2048                           0.168  ...          0   \n",
       "19                   2991                           0.143  ...          0   \n",
       "\n",
       "    Fibrosis  Effusion  Pneumonia  Pleural_Thickening  Cardiomegaly  Nodule  \\\n",
       "0          0         0          0                   0             1       0   \n",
       "1          0         0          0                   0             1       0   \n",
       "2          0         1          0                   0             1       0   \n",
       "12         0         0          0                   0             0       1   \n",
       "19         0         0          0                   0             0       0   \n",
       "\n",
       "    Mass  Hernia                                            Paths  \n",
       "0      0       0  ../../../../../data/images_all/00000001_000.png  \n",
       "1      0       0  ../../../../../data/images_all/00000001_001.png  \n",
       "2      0       0  ../../../../../data/images_all/00000001_002.png  \n",
       "12     1       0  ../../../../../data/images_all/00000004_000.png  \n",
       "19     0       0  ../../../../../data/images_all/00000005_006.png  \n",
       "\n",
       "[5 rows x 27 columns]"
      ]
     },
     "execution_count": 8,
     "metadata": {},
     "output_type": "execute_result"
    }
   ],
   "source": [
    "train_val_df.head()"
   ]
  },
  {
   "cell_type": "code",
   "execution_count": 9,
   "id": "22508e82",
   "metadata": {
    "_cell_guid": "1f8001a9-76cc-47ad-82af-9402d77c6173",
    "_uuid": "d01adf34-18c5-49af-b3b5-338879c7cb31",
    "collapsed": false,
    "execution": {
     "iopub.execute_input": "2023-07-22T17:13:16.080247Z",
     "iopub.status.busy": "2023-07-22T17:13:16.079840Z",
     "iopub.status.idle": "2023-07-22T17:13:16.085271Z",
     "shell.execute_reply": "2023-07-22T17:13:16.084389Z"
    },
    "jupyter": {
     "outputs_hidden": false
    },
    "papermill": {
     "duration": 0.015799,
     "end_time": "2023-07-22T17:13:16.087888",
     "exception": false,
     "start_time": "2023-07-22T17:13:16.072089",
     "status": "completed"
    },
    "tags": []
   },
   "outputs": [
    {
     "name": "stdout",
     "output_type": "stream",
     "text": [
      "train_val size 41721\n",
      "test size 10038\n"
     ]
    }
   ],
   "source": [
    "labels_df.shape\n",
    "print('train_val size', train_val_df.shape[0])\n",
    "print('test size', labels_df.shape[0] - train_val_df.shape[0])"
   ]
  },
  {
   "cell_type": "code",
   "execution_count": 10,
   "id": "6d0781c9",
   "metadata": {
    "_cell_guid": "a56c961f-a443-4ae9-8f9a-a52be3e90b99",
    "_uuid": "db273220-b8dd-4b32-b257-3e4f2a5f8cfa",
    "collapsed": false,
    "execution": {
     "iopub.execute_input": "2023-07-22T17:13:16.103076Z",
     "iopub.status.busy": "2023-07-22T17:13:16.102760Z",
     "iopub.status.idle": "2023-07-22T17:13:22.147538Z",
     "shell.execute_reply": "2023-07-22T17:13:22.146514Z"
    },
    "jupyter": {
     "outputs_hidden": false
    },
    "papermill": {
     "duration": 6.0553,
     "end_time": "2023-07-22T17:13:22.150175",
     "exception": false,
     "start_time": "2023-07-22T17:13:16.094875",
     "status": "completed"
    },
    "tags": []
   },
   "outputs": [],
   "source": [
    "item_transforms = [\n",
    "    Resize((224, 224)),\n",
    "]\n",
    "\n",
    "batch_transforms = [\n",
    "    Flip(),\n",
    "    Rotate(),\n",
    "    Normalize.from_stats(*imagenet_stats),\n",
    "]\n",
    "\n",
    "\n",
    "def get_x(row):\n",
    "    return row['Paths']\n",
    "\n",
    "def get_y(row):\n",
    "    labels = row[disease_labels].tolist()\n",
    "    return labels\n",
    "\n",
    "dblock = DataBlock(\n",
    "    blocks=(ImageBlock, MultiCategoryBlock(encoded=True,vocab=disease_labels)),\n",
    "                   splitter=RandomSplitter(valid_pct=0.125, seed=SEED),\n",
    "                   get_x=get_x,\n",
    "                   get_y=get_y,\n",
    "                   item_tfms=item_transforms,\n",
    "                   batch_tfms=batch_transforms\n",
    "                  )\n",
    "dls = dblock.dataloaders(train_val_df, bs=32)\n",
    "# print(dblock.datasets(train_val_merge).train)"
   ]
  },
  {
   "cell_type": "code",
   "execution_count": 11,
   "id": "1051f35f",
   "metadata": {
    "_cell_guid": "f0d356db-5bae-42d6-8058-836d0741f640",
    "_uuid": "34c26c3d-07b7-4968-8b7d-df7e4df04087",
    "collapsed": false,
    "execution": {
     "iopub.execute_input": "2023-07-22T17:13:22.165435Z",
     "iopub.status.busy": "2023-07-22T17:13:22.165135Z",
     "iopub.status.idle": "2023-07-22T17:13:27.547702Z",
     "shell.execute_reply": "2023-07-22T17:13:27.546666Z"
    },
    "jupyter": {
     "outputs_hidden": false
    },
    "papermill": {
     "duration": 5.393171,
     "end_time": "2023-07-22T17:13:27.550382",
     "exception": false,
     "start_time": "2023-07-22T17:13:22.157211",
     "status": "completed"
    },
    "tags": []
   },
   "outputs": [],
   "source": [
    "from fastai.vision.all import *\n",
    "\n",
    "arch = 'coatnet_2_rw_224.sw_in12k_ft_in1k'\n",
    "\n",
    "cbs=[\n",
    "    SaveModelCallback(monitor='valid_loss', min_delta=0.001, with_opt=True),\n",
    "    EarlyStoppingCallback(monitor='valid_loss', min_delta=0.001, patience=5),\n",
    "    ShowGraphCallback()\n",
    "    ]\n",
    "\n",
    "learn = vision_learner(dls, arch, metrics=[accuracy_multi, F1ScoreMulti(), RocAucMulti()],cbs=cbs, wd=0.001)\n",
    "\n",
    "learn.model = torch.nn.DataParallel(learn.model)"
   ]
  },
  {
   "cell_type": "code",
   "execution_count": 12,
   "id": "4352ceb8",
   "metadata": {
    "_cell_guid": "26650f8e-2d78-4de6-b739-3f26ed1b84c9",
    "_uuid": "30a79388-5c62-494d-bfe2-3ecbb65c5c39",
    "collapsed": false,
    "execution": {
     "iopub.execute_input": "2023-07-22T17:13:27.566833Z",
     "iopub.status.busy": "2023-07-22T17:13:27.566023Z",
     "iopub.status.idle": "2023-07-22T17:15:21.386480Z",
     "shell.execute_reply": "2023-07-22T17:15:21.385464Z"
    },
    "jupyter": {
     "outputs_hidden": false
    },
    "papermill": {
     "duration": 113.831131,
     "end_time": "2023-07-22T17:15:21.388853",
     "exception": false,
     "start_time": "2023-07-22T17:13:27.557722",
     "status": "completed"
    },
    "tags": []
   },
   "outputs": [
    {
     "data": {
      "text/html": [
       "\n",
       "<style>\n",
       "    /* Turns off some styling */\n",
       "    progress {\n",
       "        /* gets rid of default border in Firefox and Opera. */\n",
       "        border: none;\n",
       "        /* Needs to be in here for Safari polyfill so background images work as expected. */\n",
       "        background-size: auto;\n",
       "    }\n",
       "    progress:not([value]), progress:not([value])::-webkit-progress-bar {\n",
       "        background: repeating-linear-gradient(45deg, #7e7e7e, #7e7e7e 10px, #5c5c5c 10px, #5c5c5c 20px);\n",
       "    }\n",
       "    .progress-bar-interrupted, .progress-bar-interrupted::-webkit-progress-bar {\n",
       "        background: #F44336;\n",
       "    }\n",
       "</style>\n"
      ],
      "text/plain": [
       "<IPython.core.display.HTML object>"
      ]
     },
     "metadata": {},
     "output_type": "display_data"
    },
    {
     "data": {
      "text/html": [],
      "text/plain": [
       "<IPython.core.display.HTML object>"
      ]
     },
     "metadata": {},
     "output_type": "display_data"
    },
    {
     "name": "stdout",
     "output_type": "stream",
     "text": [
      "intial learning rate= 0.00363078061491251\n"
     ]
    },
    {
     "data": {
      "image/png": "[encoded data removed]",
      "text/plain": [
       "<Figure size 640x480 with 1 Axes>"
      ]
     },
     "metadata": {},
     "output_type": "display_data"
    }
   ],
   "source": [
    "lrs = learn.lr_find(suggest_funcs=(minimum, steep, valley, slide))\n",
    "print('intial learning rate=', lrs.valley)"
   ]
  },
  {
   "cell_type": "code",
   "execution_count": 13,
   "id": "f3c825d4",
   "metadata": {
    "_cell_guid": "acbf3c2b-5373-4e90-9dc8-ccd94c68ee70",
    "_uuid": "a73be5d6-6cb3-45c0-915c-265c743c8c86",
    "collapsed": false,
    "execution": {
     "iopub.execute_input": "2023-07-22T17:15:21.407049Z",
     "iopub.status.busy": "2023-07-22T17:15:21.406681Z",
     "iopub.status.idle": "2023-07-22T23:06:09.271578Z",
     "shell.execute_reply": "2023-07-22T23:06:09.270457Z"
    },
    "jupyter": {
     "outputs_hidden": false
    },
    "papermill": {
     "duration": 21047.882977,
     "end_time": "2023-07-22T23:06:09.280310",
     "exception": false,
     "start_time": "2023-07-22T17:15:21.397333",
     "status": "completed"
    },
    "tags": []
   },
   "outputs": [
    {
     "data": {
      "text/html": [
       "\n",
       "<style>\n",
       "    /* Turns off some styling */\n",
       "    progress {\n",
       "        /* gets rid of default border in Firefox and Opera. */\n",
       "        border: none;\n",
       "        /* Needs to be in here for Safari polyfill so background images work as expected. */\n",
       "        background-size: auto;\n",
       "    }\n",
       "    progress:not([value]), progress:not([value])::-webkit-progress-bar {\n",
       "        background: repeating-linear-gradient(45deg, #7e7e7e, #7e7e7e 10px, #5c5c5c 10px, #5c5c5c 20px);\n",
       "    }\n",
       "    .progress-bar-interrupted, .progress-bar-interrupted::-webkit-progress-bar {\n",
       "        background: #F44336;\n",
       "    }\n",
       "</style>\n"
      ],
      "text/plain": [
       "<IPython.core.display.HTML object>"
      ]
     },
     "metadata": {},
     "output_type": "display_data"
    },
    {
     "data": {
      "text/html": [
       "\n",
       "    <div>\n",
       "      <progress value='0' class='' max='3' style='width:300px; height:20px; vertical-align: middle;'></progress>\n",
       "      0.00% [0/3 00:00&lt;?]\n",
       "    </div>\n",
       "    \n",
       "<table border=\"1\" class=\"dataframe\">\n",
       "  <thead>\n",
       "    <tr style=\"text-align: left;\">\n",
       "      <th>epoch</th>\n",
       "      <th>train_loss</th>\n",
       "      <th>valid_loss</th>\n",
       "      <th>accuracy_multi</th>\n",
       "      <th>f1_score</th>\n",
       "      <th>roc_auc_score</th>\n",
       "      <th>time</th>\n",
       "    </tr>\n",
       "  </thead>\n",
       "  <tbody>\n",
       "  </tbody>\n",
       "</table><p>\n",
       "\n",
       "    <div>\n",
       "      <progress value='458' class='' max='1140' style='width:300px; height:20px; vertical-align: middle;'></progress>\n",
       "      40.18% [458/1140 02:37&lt;03:55 0.6967]\n",
       "    </div>\n",
       "    "
      ],
      "text/plain": [
       "<IPython.core.display.HTML object>"
      ]
     },
     "metadata": {},
     "output_type": "display_data"
    }
   ],
   "source": [
    "learn.fine_tune(freeze_epochs=3,epochs=20, base_lr=lrs.valley)"
   ]
  },
  {
   "cell_type": "code",
   "execution_count": null,
   "id": "63815767",
   "metadata": {
    "_cell_guid": "6cf3994e-b519-4c62-aa13-d8800163f2c5",
    "_uuid": "68eeb659-73b8-47d5-8383-c6b366514a2f",
    "collapsed": false,
    "execution": {
     "iopub.execute_input": "2023-07-22T23:06:09.305039Z",
     "iopub.status.busy": "2023-07-22T23:06:09.304712Z",
     "iopub.status.idle": "2023-07-22T23:06:10.680394Z",
     "shell.execute_reply": "2023-07-22T23:06:10.679433Z"
    },
    "jupyter": {
     "outputs_hidden": false
    },
    "papermill": {
     "duration": 1.390745,
     "end_time": "2023-07-22T23:06:10.682799",
     "exception": false,
     "start_time": "2023-07-22T23:06:09.292054",
     "status": "completed"
    },
    "tags": []
   },
   "outputs": [
    {
     "data": {
      "text/plain": [
       "Path('models/coatnet-70-10-20-split.pth')"
      ]
     },
     "execution_count": 14,
     "metadata": {},
     "output_type": "execute_result"
    }
   ],
   "source": [
    "learn.save('coatnet-70-10-20-split')"
   ]
  }
 ],
 "metadata": {
  "kernelspec": {
   "display_name": "Python 3",
   "language": "python",
   "name": "python3"
  },
  "language_info": {
   "codemirror_mode": {
    "name": "ipython",
    "version": 3
   },
   "file_extension": ".py",
   "mimetype": "text/x-python",
   "name": "python",
   "nbconvert_exporter": "python",
   "pygments_lexer": "ipython3",
   "version": "3.9.19"
  },
  "papermill": {
   "default_parameters": {},
   "duration": 21199.455734,
   "end_time": "2023-07-22T23:06:14.661066",
   "environment_variables": {},
   "exception": null,
   "input_path": "__notebook__.ipynb",
   "output_path": "__notebook__.ipynb",
   "parameters": {},
   "start_time": "2023-07-22T17:12:55.205332",
   "version": "2.4.0"
  },
  "widgets": {
   "application/vnd.jupyter.widget-state+json": {
    "state": {
     "2246c8f5c67f4cf8b9e22c3e960b6243": {
      "model_module": "@jupyter-widgets/base",
      "model_module_version": "1.2.0",
      "model_name": "LayoutModel",
      "state": {
       "_model_module": "@jupyter-widgets/base",
       "_model_module_version": "1.2.0",
       "_model_name": "LayoutModel",
       "_view_count": null,
       "_view_module": "@jupyter-widgets/base",
       "_view_module_version": "1.2.0",
       "_view_name": "LayoutView",
       "align_content": null,
       "align_items": null,
       "align_self": null,
       "border": null,
       "bottom": null,
       "display": null,
       "flex": null,
       "flex_flow": null,
       "grid_area": null,
       "grid_auto_columns": null,
       "grid_auto_flow": null,
       "grid_auto_rows": null,
       "grid_column": null,
       "grid_gap": null,
       "grid_row": null,
       "grid_template_areas": null,
       "grid_template_columns": null,
       "grid_template_rows": null,
       "height": null,
       "justify_content": null,
       "justify_items": null,
       "left": null,
       "margin": null,
       "max_height": null,
       "max_width": null,
       "min_height": null,
       "min_width": null,
       "object_fit": null,
       "object_position": null,
       "order": null,
       "overflow": null,
       "overflow_x": null,
       "overflow_y": null,
       "padding": null,
       "right": null,
       "top": null,
       "visibility": null,
       "width": null
      }
     },
     "264f7ce12d694b378390a5b9bb929dbd": {
      "model_module": "@jupyter-widgets/controls",
      "model_module_version": "1.5.0",
      "model_name": "HTMLModel",
      "state": {
       "_dom_classes": [],
       "_model_module": "@jupyter-widgets/controls",
       "_model_module_version": "1.5.0",
       "_model_name": "HTMLModel",
       "_view_count": null,
       "_view_module": "@jupyter-widgets/controls",
       "_view_module_version": "1.5.0",
       "_view_name": "HTMLView",
       "description": "",
       "description_tooltip": null,
       "layout": "IPY_MODEL_ca651653ff7742839c5e22ea403313bb",
       "placeholder": "​",
       "style": "IPY_MODEL_97800c2310344a95ba6d74e41284b316",
       "value": " 296M/296M [00:01&lt;00:00, 220MB/s]"
      }
     },
     "3938fcbc5f9540a8a9fefb89871bac77": {
      "model_module": "@jupyter-widgets/controls",
      "model_module_version": "1.5.0",
      "model_name": "HBoxModel",
      "state": {
       "_dom_classes": [],
       "_model_module": "@jupyter-widgets/controls",
       "_model_module_version": "1.5.0",
       "_model_name": "HBoxModel",
       "_view_count": null,
       "_view_module": "@jupyter-widgets/controls",
       "_view_module_version": "1.5.0",
       "_view_name": "HBoxView",
       "box_style": "",
       "children": [
        "IPY_MODEL_d9e4e7d3874a458bb2994d7d0d7ea771",
        "IPY_MODEL_de64786445da4c3386a9cfe0c48901a8",
        "IPY_MODEL_264f7ce12d694b378390a5b9bb929dbd"
       ],
       "layout": "IPY_MODEL_2246c8f5c67f4cf8b9e22c3e960b6243"
      }
     },
     "3b60ef20c2184a0886da7407f7339e77": {
      "model_module": "@jupyter-widgets/base",
      "model_module_version": "1.2.0",
      "model_name": "LayoutModel",
      "state": {
       "_model_module": "@jupyter-widgets/base",
       "_model_module_version": "1.2.0",
       "_model_name": "LayoutModel",
       "_view_count": null,
       "_view_module": "@jupyter-widgets/base",
       "_view_module_version": "1.2.0",
       "_view_name": "LayoutView",
       "align_content": null,
       "align_items": null,
       "align_self": null,
       "border": null,
       "bottom": null,
       "display": null,
       "flex": null,
       "flex_flow": null,
       "grid_area": null,
       "grid_auto_columns": null,
       "grid_auto_flow": null,
       "grid_auto_rows": null,
       "grid_column": null,
       "grid_gap": null,
       "grid_row": null,
       "grid_template_areas": null,
       "grid_template_columns": null,
       "grid_template_rows": null,
       "height": null,
       "justify_content": null,
       "justify_items": null,
       "left": null,
       "margin": null,
       "max_height": null,
       "max_width": null,
       "min_height": null,
       "min_width": null,
       "object_fit": null,
       "object_position": null,
       "order": null,
       "overflow": null,
       "overflow_x": null,
       "overflow_y": null,
       "padding": null,
       "right": null,
       "top": null,
       "visibility": null,
       "width": null
      }
     },
     "933fa96035ea40a2b2b7b3b708891623": {
      "model_module": "@jupyter-widgets/controls",
      "model_module_version": "1.5.0",
      "model_name": "DescriptionStyleModel",
      "state": {
       "_model_module": "@jupyter-widgets/controls",
       "_model_module_version": "1.5.0",
       "_model_name": "DescriptionStyleModel",
       "_view_count": null,
       "_view_module": "@jupyter-widgets/base",
       "_view_module_version": "1.2.0",
       "_view_name": "StyleView",
       "description_width": ""
      }
     },
     "97800c2310344a95ba6d74e41284b316": {
      "model_module": "@jupyter-widgets/controls",
      "model_module_version": "1.5.0",
      "model_name": "DescriptionStyleModel",
      "state": {
       "_model_module": "@jupyter-widgets/controls",
       "_model_module_version": "1.5.0",
       "_model_name": "DescriptionStyleModel",
       "_view_count": null,
       "_view_module": "@jupyter-widgets/base",
       "_view_module_version": "1.2.0",
       "_view_name": "StyleView",
       "description_width": ""
      }
     },
     "a014335bf71d4006aeddb40dca73e572": {
      "model_module": "@jupyter-widgets/base",
      "model_module_version": "1.2.0",
      "model_name": "LayoutModel",
      "state": {
       "_model_module": "@jupyter-widgets/base",
       "_model_module_version": "1.2.0",
       "_model_name": "LayoutModel",
       "_view_count": null,
       "_view_module": "@jupyter-widgets/base",
       "_view_module_version": "1.2.0",
       "_view_name": "LayoutView",
       "align_content": null,
       "align_items": null,
       "align_self": null,
       "border": null,
       "bottom": null,
       "display": null,
       "flex": null,
       "flex_flow": null,
       "grid_area": null,
       "grid_auto_columns": null,
       "grid_auto_flow": null,
       "grid_auto_rows": null,
       "grid_column": null,
       "grid_gap": null,
       "grid_row": null,
       "grid_template_areas": null,
       "grid_template_columns": null,
       "grid_template_rows": null,
       "height": null,
       "justify_content": null,
       "justify_items": null,
       "left": null,
       "margin": null,
       "max_height": null,
       "max_width": null,
       "min_height": null,
       "min_width": null,
       "object_fit": null,
       "object_position": null,
       "order": null,
       "overflow": null,
       "overflow_x": null,
       "overflow_y": null,
       "padding": null,
       "right": null,
       "top": null,
       "visibility": null,
       "width": null
      }
     },
     "b8b6e64c73c146a5a00f886adba62602": {
      "model_module": "@jupyter-widgets/controls",
      "model_module_version": "1.5.0",
      "model_name": "ProgressStyleModel",
      "state": {
       "_model_module": "@jupyter-widgets/controls",
       "_model_module_version": "1.5.0",
       "_model_name": "ProgressStyleModel",
       "_view_count": null,
       "_view_module": "@jupyter-widgets/base",
       "_view_module_version": "1.2.0",
       "_view_name": "StyleView",
       "bar_color": null,
       "description_width": ""
      }
     },
     "ca651653ff7742839c5e22ea403313bb": {
      "model_module": "@jupyter-widgets/base",
      "model_module_version": "1.2.0",
      "model_name": "LayoutModel",
      "state": {
       "_model_module": "@jupyter-widgets/base",
       "_model_module_version": "1.2.0",
       "_model_name": "LayoutModel",
       "_view_count": null,
       "_view_module": "@jupyter-widgets/base",
       "_view_module_version": "1.2.0",
       "_view_name": "LayoutView",
       "align_content": null,
       "align_items": null,
       "align_self": null,
       "border": null,
       "bottom": null,
       "display": null,
       "flex": null,
       "flex_flow": null,
       "grid_area": null,
       "grid_auto_columns": null,
       "grid_auto_flow": null,
       "grid_auto_rows": null,
       "grid_column": null,
       "grid_gap": null,
       "grid_row": null,
       "grid_template_areas": null,
       "grid_template_columns": null,
       "grid_template_rows": null,
       "height": null,
       "justify_content": null,
       "justify_items": null,
       "left": null,
       "margin": null,
       "max_height": null,
       "max_width": null,
       "min_height": null,
       "min_width": null,
       "object_fit": null,
       "object_position": null,
       "order": null,
       "overflow": null,
       "overflow_x": null,
       "overflow_y": null,
       "padding": null,
       "right": null,
       "top": null,
       "visibility": null,
       "width": null
      }
     },
     "d9e4e7d3874a458bb2994d7d0d7ea771": {
      "model_module": "@jupyter-widgets/controls",
      "model_module_version": "1.5.0",
      "model_name": "HTMLModel",
      "state": {
       "_dom_classes": [],
       "_model_module": "@jupyter-widgets/controls",
       "_model_module_version": "1.5.0",
       "_model_name": "HTMLModel",
       "_view_count": null,
       "_view_module": "@jupyter-widgets/controls",
       "_view_module_version": "1.5.0",
       "_view_name": "HTMLView",
       "description": "",
       "description_tooltip": null,
       "layout": "IPY_MODEL_a014335bf71d4006aeddb40dca73e572",
       "placeholder": "​",
       "style": "IPY_MODEL_933fa96035ea40a2b2b7b3b708891623",
       "value": "Downloading model.safetensors: 100%"
      }
     },
     "de64786445da4c3386a9cfe0c48901a8": {
      "model_module": "@jupyter-widgets/controls",
      "model_module_version": "1.5.0",
      "model_name": "FloatProgressModel",
      "state": {
       "_dom_classes": [],
       "_model_module": "@jupyter-widgets/controls",
       "_model_module_version": "1.5.0",
       "_model_name": "FloatProgressModel",
       "_view_count": null,
       "_view_module": "@jupyter-widgets/controls",
       "_view_module_version": "1.5.0",
       "_view_name": "ProgressView",
       "bar_style": "success",
       "description": "",
       "description_tooltip": null,
       "layout": "IPY_MODEL_3b60ef20c2184a0886da7407f7339e77",
       "max": 295635514,
       "min": 0,
       "orientation": "horizontal",
       "style": "IPY_MODEL_b8b6e64c73c146a5a00f886adba62602",
       "value": 295635514
      }
     }
    },
    "version_major": 2,
    "version_minor": 0
   }
  }
 },
 "nbformat": 4,
 "nbformat_minor": 5
}
