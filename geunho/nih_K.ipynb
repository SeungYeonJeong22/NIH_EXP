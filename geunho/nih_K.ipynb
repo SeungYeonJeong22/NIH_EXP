{
 "cells": [
  {
   "cell_type": "code",
   "execution_count": 1,
   "metadata": {},
   "outputs": [
    {
     "name": "stderr",
     "output_type": "stream",
     "text": [
      "/userHome/userhome4/seungyeon/miniconda3/envs/nih_exp/lib/python3.9/site-packages/tqdm/auto.py:21: TqdmWarning: IProgress not found. Please update jupyter and ipywidgets. See https://ipywidgets.readthedocs.io/en/stable/user_install.html\n",
      "  from .autonotebook import tqdm as notebook_tqdm\n"
     ]
    }
   ],
   "source": [
    "import pandas as pd\n",
    "import numpy as np\n",
    "from sklearn.model_selection import train_test_split\n",
    "import torch\n",
    "from torch.utils.data import Dataset, DataLoader\n",
    "from PIL import Image\n",
    "import os\n",
    "from glob import glob\n",
    "from tqdm import tqdm\n",
    "\n",
    "os.environ['CUDA_VISIBLE_DEVICES'] = \"0,1\"\n",
    "\n",
    "train_val_df = pd.read_csv(\"../../data/train_val.csv\")\n",
    "test_df = pd.read_csv(\"../../data/test.csv\")\n",
    "\n",
    "# Extract the paths and labels\n",
    "label_columns = ['Atelectasis', 'Consolidation', 'Infiltration', 'Pneumothorax', 'Edema', 'Emphysema', 'Fibrosis', 'Effusion', 'Pneumonia', 'Pleural_Thickening', 'Cardiomegaly', 'Nodule', 'Mass', 'Hernia', 'No Finding']\n",
    "train_val_labels = train_val_df[label_columns].values\n",
    "test_labels = test_df[label_columns].values"
   ]
  },
  {
   "cell_type": "code",
   "execution_count": 2,
   "metadata": {},
   "outputs": [],
   "source": [
    "train_val_df['Paths'] = train_val_df['Paths'].apply(lambda x : x.split(\"../../../\")[1])\n",
    "test_df['Paths'] = test_df['Paths'].apply(lambda x : x.split(\"../../../\")[1])"
   ]
  },
  {
   "cell_type": "markdown",
   "metadata": {},
   "source": [
    "## random sample"
   ]
  },
  {
   "cell_type": "code",
   "execution_count": 3,
   "metadata": {},
   "outputs": [
    {
     "data": {
      "text/plain": [
       "86523"
      ]
     },
     "execution_count": 3,
     "metadata": {},
     "output_type": "execute_result"
    }
   ],
   "source": [
    "len(train_val_df)"
   ]
  },
  {
   "cell_type": "code",
   "execution_count": 4,
   "metadata": {},
   "outputs": [],
   "source": [
    "# import random\n",
    "\n",
    "# train_val_df = train_val_df.sample(frac=0.1, replace=True, random_state=1)\n",
    "# test_df = test_df.sample(frac=0.1, replace=True, random_state=1)\n",
    "\n",
    "# print(\"train_val_df length : \", len(train_val_df))\n",
    "# print(\"test_df length : \", len(test_df))"
   ]
  },
  {
   "cell_type": "code",
   "execution_count": 5,
   "metadata": {},
   "outputs": [],
   "source": [
    "class CustomDataset(Dataset):\n",
    "    def __init__(self, dataframe, labels, transform=None):\n",
    "        self.dataframe = dataframe\n",
    "        self.labels = labels\n",
    "        self.transform = transform\n",
    "\n",
    "    def __len__(self):\n",
    "        return len(self.dataframe)\n",
    "\n",
    "    def __getitem__(self, idx):\n",
    "        img_name = os.path.join(self.dataframe.iloc[idx]['Paths'])\n",
    "        image = Image.open(img_name).convert('RGB')\n",
    "        label = self.labels[idx]\n",
    "\n",
    "        if self.transform:\n",
    "            image = self.transform(image)\n",
    "\n",
    "        return image, torch.tensor(label, dtype=torch.float32)\n",
    "\n",
    "from torchvision import transforms\n",
    "\n",
    "transform = transforms.Compose([\n",
    "    transforms.Resize((224, 224)),\n",
    "    transforms.ToTensor(),\n",
    "])\n",
    "\n",
    "train_val_dataset = CustomDataset(train_val_df, train_val_labels, transform=transform)\n",
    "test_dataset = CustomDataset(test_df, test_labels, transform=transform)\n",
    "\n",
    "train_loader = DataLoader(train_val_dataset, batch_size=256, shuffle=True)\n",
    "test_loader = DataLoader(test_dataset, batch_size=256, shuffle=False)\n"
   ]
  },
  {
   "cell_type": "code",
   "execution_count": 6,
   "metadata": {},
   "outputs": [
    {
     "name": "stderr",
     "output_type": "stream",
     "text": [
      "/userHome/userhome4/seungyeon/miniconda3/envs/nih_exp/lib/python3.9/site-packages/torchvision/models/_utils.py:208: UserWarning: The parameter 'pretrained' is deprecated since 0.13 and will be removed in 0.15, please use 'weights' instead.\n",
      "  warnings.warn(\n",
      "/userHome/userhome4/seungyeon/miniconda3/envs/nih_exp/lib/python3.9/site-packages/torchvision/models/_utils.py:223: UserWarning: Arguments other than a weight enum or `None` for 'weights' are deprecated since 0.13 and will be removed in 0.15. The current behavior is equivalent to passing `weights=ResNet50_Weights.IMAGENET1K_V1`. You can also use `weights=ResNet50_Weights.DEFAULT` to get the most up-to-date weights.\n",
      "  warnings.warn(msg)\n"
     ]
    }
   ],
   "source": [
    "import torch.nn as nn\n",
    "import torchvision.models as models\n",
    "\n",
    "class ResNetModified(nn.Module):\n",
    "    def __init__(self):\n",
    "        super(ResNetModified, self).__init__()\n",
    "        original_model = models.resnet50(pretrained=True)\n",
    "        self.features = nn.Sequential(*list(original_model.children())[:-1])\n",
    "        self.fc = nn.Sequential(\n",
    "            nn.Linear(2048, 1024),\n",
    "            nn.ReLU(),\n",
    "            nn.Linear(1024, 15),\n",
    "            nn.Sigmoid()  # Sigmoid for multi-label classification\n",
    "        )\n",
    "\n",
    "    def forward(self, x):\n",
    "        x = self.features(x)\n",
    "        x = x.view(x.size(0), -1)\n",
    "        x = self.fc(x)\n",
    "        return x\n",
    "\n",
    "device = torch.device('cuda' if torch.cuda.is_available() else 'cpu')\n",
    "model = ResNetModified()\n",
    "\n",
    "model = nn.DataParallel(model)\n",
    "model = model.to(device)\n"
   ]
  },
  {
   "cell_type": "code",
   "execution_count": 7,
   "metadata": {},
   "outputs": [
    {
     "name": "stderr",
     "output_type": "stream",
     "text": [
      "Train_loader Epoch: 0: 100%|██████████| 338/338 [4:09:45<00:00, 44.33s/it]   \n"
     ]
    },
    {
     "name": "stdout",
     "output_type": "stream",
     "text": [
      "Epoch 1, Loss: 0.18308721227053354\n"
     ]
    },
    {
     "name": "stderr",
     "output_type": "stream",
     "text": [
      "Test_loader Epoch: 0: 100%|██████████| 100/100 [24:18<00:00, 14.59s/it]\n"
     ]
    },
    {
     "name": "stdout",
     "output_type": "stream",
     "text": [
      "Accuracy: 0.2004297714397343, F1-Score: 0.06026821832113605, Roc_Auc: 0.5162102790677274\n"
     ]
    },
    {
     "name": "stderr",
     "output_type": "stream",
     "text": [
      "Train_loader Epoch: 1: 100%|██████████| 338/338 [37:35<00:00,  6.67s/it]\n"
     ]
    },
    {
     "name": "stdout",
     "output_type": "stream",
     "text": [
      "Epoch 2, Loss: 0.17366208180167972\n"
     ]
    },
    {
     "name": "stderr",
     "output_type": "stream",
     "text": [
      "Test_loader Epoch: 1: 100%|██████████| 100/100 [06:31<00:00,  3.91s/it]\n"
     ]
    },
    {
     "name": "stdout",
     "output_type": "stream",
     "text": [
      "Accuracy: 0.24078921664387576, F1-Score: 0.057714025924933694, Roc_Auc: 0.5158141009791951\n"
     ]
    },
    {
     "name": "stderr",
     "output_type": "stream",
     "text": [
      "Train_loader Epoch: 2: 100%|██████████| 338/338 [25:27<00:00,  4.52s/it]\n"
     ]
    },
    {
     "name": "stdout",
     "output_type": "stream",
     "text": [
      "Epoch 3, Loss: 0.16922852141264627\n"
     ]
    },
    {
     "name": "stderr",
     "output_type": "stream",
     "text": [
      "Test_loader Epoch: 2: 100%|██████████| 100/100 [06:28<00:00,  3.89s/it]\n"
     ]
    },
    {
     "name": "stdout",
     "output_type": "stream",
     "text": [
      "Accuracy: 0.2098456729830045, F1-Score: 0.06604048438636524, Roc_Auc: 0.5204809148307669\n"
     ]
    },
    {
     "name": "stderr",
     "output_type": "stream",
     "text": [
      "Train_loader Epoch: 3: 100%|██████████| 338/338 [23:25<00:00,  4.16s/it]\n"
     ]
    },
    {
     "name": "stdout",
     "output_type": "stream",
     "text": [
      "Epoch 4, Loss: 0.16597063464702233\n"
     ]
    },
    {
     "name": "stderr",
     "output_type": "stream",
     "text": [
      "Test_loader Epoch: 3: 100%|██████████| 100/100 [06:27<00:00,  3.87s/it]\n"
     ]
    },
    {
     "name": "stdout",
     "output_type": "stream",
     "text": [
      "Accuracy: 0.2518069935534284, F1-Score: 0.057546714600816014, Roc_Auc: 0.5141896145537144\n"
     ]
    },
    {
     "name": "stderr",
     "output_type": "stream",
     "text": [
      "Train_loader Epoch: 4: 100%|██████████| 338/338 [23:11<00:00,  4.12s/it]\n"
     ]
    },
    {
     "name": "stdout",
     "output_type": "stream",
     "text": [
      "Epoch 5, Loss: 0.16285744402006533\n"
     ]
    },
    {
     "name": "stderr",
     "output_type": "stream",
     "text": [
      "Test_loader Epoch: 4: 100%|██████████| 100/100 [06:27<00:00,  3.88s/it]\n"
     ]
    },
    {
     "name": "stdout",
     "output_type": "stream",
     "text": [
      "Accuracy: 0.08728267239695253, F1-Score: 0.07141842142185459, Roc_Auc: 0.5200155961530847\n"
     ]
    },
    {
     "name": "stderr",
     "output_type": "stream",
     "text": [
      "Train_loader Epoch: 5: 100%|██████████| 338/338 [23:11<00:00,  4.12s/it]\n"
     ]
    },
    {
     "name": "stdout",
     "output_type": "stream",
     "text": [
      "Epoch 6, Loss: 0.1600449031891202\n"
     ]
    },
    {
     "name": "stderr",
     "output_type": "stream",
     "text": [
      "Test_loader Epoch: 5: 100%|██████████| 100/100 [06:27<00:00,  3.88s/it]\n"
     ]
    },
    {
     "name": "stdout",
     "output_type": "stream",
     "text": [
      "Accuracy: 0.22340300840007815, F1-Score: 0.12406201356634454, Roc_Auc: 0.5376239972924888\n"
     ]
    },
    {
     "name": "stderr",
     "output_type": "stream",
     "text": [
      "Train_loader Epoch: 6: 100%|██████████| 338/338 [23:09<00:00,  4.11s/it]\n"
     ]
    },
    {
     "name": "stdout",
     "output_type": "stream",
     "text": [
      "Epoch 7, Loss: 0.15642558547431196\n"
     ]
    },
    {
     "name": "stderr",
     "output_type": "stream",
     "text": [
      "Test_loader Epoch: 6: 100%|██████████| 100/100 [06:28<00:00,  3.88s/it]\n"
     ]
    },
    {
     "name": "stdout",
     "output_type": "stream",
     "text": [
      "Accuracy: 0.2201992576675132, F1-Score: 0.10468843587231574, Roc_Auc: 0.5313522357383491\n"
     ]
    },
    {
     "name": "stderr",
     "output_type": "stream",
     "text": [
      "Train_loader Epoch: 7: 100%|██████████| 338/338 [23:12<00:00,  4.12s/it]\n"
     ]
    },
    {
     "name": "stdout",
     "output_type": "stream",
     "text": [
      "Epoch 8, Loss: 0.1523521294343401\n"
     ]
    },
    {
     "name": "stderr",
     "output_type": "stream",
     "text": [
      "Test_loader Epoch: 7: 100%|██████████| 100/100 [06:28<00:00,  3.88s/it]\n"
     ]
    },
    {
     "name": "stdout",
     "output_type": "stream",
     "text": [
      "Accuracy: 0.18866966204336785, F1-Score: 0.10044200618141158, Roc_Auc: 0.539923647035462\n"
     ]
    },
    {
     "name": "stderr",
     "output_type": "stream",
     "text": [
      "Train_loader Epoch: 8: 100%|██████████| 338/338 [23:11<00:00,  4.12s/it]\n"
     ]
    },
    {
     "name": "stdout",
     "output_type": "stream",
     "text": [
      "Epoch 9, Loss: 0.1470925941975159\n"
     ]
    },
    {
     "name": "stderr",
     "output_type": "stream",
     "text": [
      "Test_loader Epoch: 8: 100%|██████████| 100/100 [06:28<00:00,  3.88s/it]\n"
     ]
    },
    {
     "name": "stdout",
     "output_type": "stream",
     "text": [
      "Accuracy: 0.26286384059386597, F1-Score: 0.09164777820119958, Roc_Auc: 0.5276652258256352\n"
     ]
    },
    {
     "name": "stderr",
     "output_type": "stream",
     "text": [
      "Train_loader Epoch: 9: 100%|██████████| 338/338 [23:24<00:00,  4.16s/it]\n"
     ]
    },
    {
     "name": "stdout",
     "output_type": "stream",
     "text": [
      "Epoch 10, Loss: 0.13985928981261847\n"
     ]
    },
    {
     "name": "stderr",
     "output_type": "stream",
     "text": [
      "Test_loader Epoch: 9: 100%|██████████| 100/100 [06:28<00:00,  3.88s/it]\n"
     ]
    },
    {
     "name": "stdout",
     "output_type": "stream",
     "text": [
      "Accuracy: 0.20734518460636844, F1-Score: 0.11100551293607867, Roc_Auc: 0.5348773920029024\n"
     ]
    },
    {
     "name": "stderr",
     "output_type": "stream",
     "text": [
      "Train_loader Epoch: 10: 100%|██████████| 338/338 [23:23<00:00,  4.15s/it]\n"
     ]
    },
    {
     "name": "stdout",
     "output_type": "stream",
     "text": [
      "Epoch 11, Loss: 0.12971775127938512\n"
     ]
    },
    {
     "name": "stderr",
     "output_type": "stream",
     "text": [
      "Test_loader Epoch: 10: 100%|██████████| 100/100 [06:27<00:00,  3.88s/it]\n"
     ]
    },
    {
     "name": "stdout",
     "output_type": "stream",
     "text": [
      "Accuracy: 0.2521195546005079, F1-Score: 0.13302177755125338, Roc_Auc: 0.5365178669392907\n"
     ]
    },
    {
     "name": "stderr",
     "output_type": "stream",
     "text": [
      "Train_loader Epoch: 11: 100%|██████████| 338/338 [23:27<00:00,  4.16s/it]\n"
     ]
    },
    {
     "name": "stdout",
     "output_type": "stream",
     "text": [
      "Epoch 12, Loss: 0.1174742590481713\n"
     ]
    },
    {
     "name": "stderr",
     "output_type": "stream",
     "text": [
      "Test_loader Epoch: 11: 100%|██████████| 100/100 [06:27<00:00,  3.88s/it]\n"
     ]
    },
    {
     "name": "stdout",
     "output_type": "stream",
     "text": [
      "Accuracy: 0.23297519046688805, F1-Score: 0.14717224280682775, Roc_Auc: 0.5400908512405976\n"
     ]
    },
    {
     "name": "stderr",
     "output_type": "stream",
     "text": [
      "Train_loader Epoch: 12: 100%|██████████| 338/338 [23:28<00:00,  4.17s/it]\n"
     ]
    },
    {
     "name": "stdout",
     "output_type": "stream",
     "text": [
      "Epoch 13, Loss: 0.10318635326958972\n"
     ]
    },
    {
     "name": "stderr",
     "output_type": "stream",
     "text": [
      "Test_loader Epoch: 12: 100%|██████████| 100/100 [06:29<00:00,  3.89s/it]\n"
     ]
    },
    {
     "name": "stdout",
     "output_type": "stream",
     "text": [
      "Accuracy: 0.26149638601289316, F1-Score: 0.14315701213155105, Roc_Auc: 0.5366602770366626\n"
     ]
    },
    {
     "name": "stderr",
     "output_type": "stream",
     "text": [
      "Train_loader Epoch: 13: 100%|██████████| 338/338 [23:27<00:00,  4.16s/it]\n"
     ]
    },
    {
     "name": "stdout",
     "output_type": "stream",
     "text": [
      "Epoch 14, Loss: 0.08926802201295746\n"
     ]
    },
    {
     "name": "stderr",
     "output_type": "stream",
     "text": [
      "Test_loader Epoch: 13: 100%|██████████| 100/100 [06:28<00:00,  3.88s/it]\n"
     ]
    },
    {
     "name": "stdout",
     "output_type": "stream",
     "text": [
      "Accuracy: 0.25751123266262943, F1-Score: 0.1760618715025172, Roc_Auc: 0.5566408714827297\n"
     ]
    },
    {
     "name": "stderr",
     "output_type": "stream",
     "text": [
      "Train_loader Epoch: 14: 100%|██████████| 338/338 [23:08<00:00,  4.11s/it]\n"
     ]
    },
    {
     "name": "stdout",
     "output_type": "stream",
     "text": [
      "Epoch 15, Loss: 0.07566605189804142\n"
     ]
    },
    {
     "name": "stderr",
     "output_type": "stream",
     "text": [
      "Test_loader Epoch: 14: 100%|██████████| 100/100 [06:26<00:00,  3.87s/it]\n"
     ]
    },
    {
     "name": "stdout",
     "output_type": "stream",
     "text": [
      "Accuracy: 0.2867356905645634, F1-Score: 0.15376393754370327, Roc_Auc: 0.538512349626164\n"
     ]
    },
    {
     "name": "stderr",
     "output_type": "stream",
     "text": [
      "Train_loader Epoch: 15: 100%|██████████| 338/338 [23:10<00:00,  4.12s/it]\n"
     ]
    },
    {
     "name": "stdout",
     "output_type": "stream",
     "text": [
      "Epoch 16, Loss: 0.06365677250339788\n"
     ]
    },
    {
     "name": "stderr",
     "output_type": "stream",
     "text": [
      "Test_loader Epoch: 15: 100%|██████████| 100/100 [06:27<00:00,  3.88s/it]\n"
     ]
    },
    {
     "name": "stdout",
     "output_type": "stream",
     "text": [
      "Accuracy: 0.26868529009572184, F1-Score: 0.1590545368550524, Roc_Auc: 0.5395776630432386\n"
     ]
    },
    {
     "name": "stderr",
     "output_type": "stream",
     "text": [
      "Train_loader Epoch: 16: 100%|██████████| 338/338 [23:11<00:00,  4.12s/it]\n"
     ]
    },
    {
     "name": "stdout",
     "output_type": "stream",
     "text": [
      "Epoch 17, Loss: 0.05469410698971099\n"
     ]
    },
    {
     "name": "stderr",
     "output_type": "stream",
     "text": [
      "Test_loader Epoch: 16: 100%|██████████| 100/100 [06:27<00:00,  3.88s/it]\n"
     ]
    },
    {
     "name": "stdout",
     "output_type": "stream",
     "text": [
      "Accuracy: 0.2692713420589959, F1-Score: 0.17362798505124802, Roc_Auc: 0.5510056130239115\n"
     ]
    },
    {
     "name": "stderr",
     "output_type": "stream",
     "text": [
      "Train_loader Epoch: 17: 100%|██████████| 338/338 [25:05<00:00,  4.45s/it]\n"
     ]
    },
    {
     "name": "stdout",
     "output_type": "stream",
     "text": [
      "Epoch 18, Loss: 0.04513682081700253\n"
     ]
    },
    {
     "name": "stderr",
     "output_type": "stream",
     "text": [
      "Test_loader Epoch: 17: 100%|██████████| 100/100 [06:59<00:00,  4.19s/it]\n"
     ]
    },
    {
     "name": "stdout",
     "output_type": "stream",
     "text": [
      "Accuracy: 0.22992772025786287, F1-Score: 0.17583932060211288, Roc_Auc: 0.5526252161515364\n"
     ]
    },
    {
     "name": "stderr",
     "output_type": "stream",
     "text": [
      "Train_loader Epoch: 18: 100%|██████████| 338/338 [4:14:09<00:00, 45.12s/it]   \n"
     ]
    },
    {
     "name": "stdout",
     "output_type": "stream",
     "text": [
      "Epoch 19, Loss: 0.0379218910517689\n"
     ]
    },
    {
     "name": "stderr",
     "output_type": "stream",
     "text": [
      "Test_loader Epoch: 18: 100%|██████████| 100/100 [53:00<00:00, 31.80s/it]  \n"
     ]
    },
    {
     "name": "stdout",
     "output_type": "stream",
     "text": [
      "Accuracy: 0.26708341472943936, F1-Score: 0.18325672959686432, Roc_Auc: 0.5500562723765747\n"
     ]
    },
    {
     "name": "stderr",
     "output_type": "stream",
     "text": [
      "Train_loader Epoch: 19: 100%|██████████| 338/338 [1:19:34<00:00, 14.13s/it]\n"
     ]
    },
    {
     "name": "stdout",
     "output_type": "stream",
     "text": [
      "Epoch 20, Loss: 0.03279030364910526\n"
     ]
    },
    {
     "name": "stderr",
     "output_type": "stream",
     "text": [
      "Test_loader Epoch: 19: 100%|██████████| 100/100 [21:24<00:00, 12.84s/it]\n"
     ]
    },
    {
     "name": "stdout",
     "output_type": "stream",
     "text": [
      "Accuracy: 0.26544246923227194, F1-Score: 0.1681702393937518, Roc_Auc: 0.5466660255307355\n"
     ]
    }
   ],
   "source": [
    "## 20시간 걸림 (1207m)\n",
    "\n",
    "# import torch.optim as optim\n",
    "# from sklearn.metrics import accuracy_score, f1_score, roc_auc_score\n",
    "# from tqdm import tqdm\n",
    "\n",
    "# criterion = nn.BCELoss()  # Binary Cross Entropy Loss\n",
    "# optimizer = optim.Adam(model.parameters(), lr=0.001)\n",
    "\n",
    "# num_epochs = 20\n",
    "\n",
    "# for epoch in range(num_epochs):\n",
    "#     model.train()\n",
    "#     running_loss = 0.0\n",
    "#     for images, labels in tqdm(train_loader, desc=f\"Train_loader Epoch: {epoch}\"):\n",
    "#         images, labels = images.to(device), labels.to(device)\n",
    "\n",
    "#         optimizer.zero_grad()\n",
    "#         outputs = model(images)\n",
    "#         loss = criterion(outputs, labels)\n",
    "#         loss.backward()\n",
    "#         optimizer.step()\n",
    "\n",
    "#         running_loss += loss.item()\n",
    "\n",
    "#     print(f\"Epoch {epoch+1}, Loss: {running_loss/len(train_loader)}\")\n",
    "\n",
    "#     # Evaluate the model\n",
    "#     model.eval()\n",
    "#     all_labels = []\n",
    "#     all_outputs = []\n",
    "#     with torch.no_grad():\n",
    "#         for images, labels in tqdm(test_loader, desc=f\"Test_loader Epoch: {epoch}\"):\n",
    "#             images, labels = images.to(device), labels.to(device)\n",
    "#             outputs = model(images)\n",
    "#             all_labels.append(labels.cpu().numpy())\n",
    "#             all_outputs.append(outputs.cpu().numpy())\n",
    "\n",
    "#     all_labels = np.vstack(all_labels)\n",
    "#     all_outputs = np.vstack(all_outputs)\n",
    "#     all_outputs = (all_outputs > 0.5).astype(int)\n",
    "\n",
    "#     accuracy = accuracy_score(all_labels, all_outputs)\n",
    "#     roc_auc = roc_auc_score(all_labels, all_outputs)\n",
    "#     f1 = f1_score(all_labels, all_outputs, average='macro')\n",
    "\n",
    "#     print(f\"Accuracy: {accuracy}, F1-Score: {f1}, Roc_Auc: {roc_auc}\")\n",
    "\n",
    "\n",
    "# root_save_path = \"save\"\n",
    "# if not os.path.exists(root_save_path):\n",
    "#     os.makedirs(root_save_path)\n",
    "    \n",
    "# model_save_path =os.path.join(root_save_path, \"resnet_modified.pth\")\n",
    "\n",
    "# # Save the model\n",
    "# torch.save(model.state_dict(), model_save_path)\n"
   ]
  },
  {
   "cell_type": "code",
   "execution_count": null,
   "metadata": {},
   "outputs": [],
   "source": [
    "model_weight_path = torch.load(\"save/resnet_modified.pth\")\n",
    "model.load_state_dict(model_weight_path)"
   ]
  },
  {
   "cell_type": "code",
   "execution_count": 13,
   "metadata": {},
   "outputs": [
    {
     "name": "stdout",
     "output_type": "stream",
     "text": [
      "Accuracy: 0.26544246923227194, Recall: 0.5466660255307355, F1-Score: 0.34757275503209323\n"
     ]
    }
   ],
   "source": [
    "# 20분 걸림 (20m)\n",
    "\n",
    "def evaluate_and_save_results(model, test_loader, threshold=0.5):\n",
    "    model.eval()\n",
    "    all_labels = []\n",
    "    all_outputs = []\n",
    "    all_filenames = []\n",
    "\n",
    "    with torch.no_grad():\n",
    "        for images, labels in test_loader:\n",
    "            images, labels = images.to(device), labels.to(device)\n",
    "            outputs = model(images)\n",
    "            all_labels.append(labels.cpu().numpy())\n",
    "            all_outputs.append(outputs.cpu().numpy())\n",
    "            all_filenames.extend(test_loader.dataset.dataframe.iloc[:len(images)]['Paths'].tolist())\n",
    "\n",
    "    all_labels = np.vstack(all_labels)\n",
    "    all_outputs = np.vstack(all_outputs)\n",
    "    binary_outputs = (all_outputs > threshold).astype(int)\n",
    "\n",
    "    results_df = pd.DataFrame({\n",
    "        'filename': all_filenames,\n",
    "        'true_labels': list(all_labels),\n",
    "        'predicted_labels': list(binary_outputs),\n",
    "        'predicted_probabilities': list(all_outputs)\n",
    "    })\n",
    "\n",
    "    results_df.to_csv('evaluation_results.csv', index=False)\n",
    "\n",
    "    accuracy = accuracy_score(all_labels, binary_outputs)\n",
    "    # precision = precision_score(all_labels, binary_outputs, average='micro')\n",
    "    recall = roc_auc_score(all_labels, binary_outputs)\n",
    "    f1 = f1_score(all_labels, binary_outputs, average='micro')\n",
    "\n",
    "    print(f\"Accuracy: {accuracy}, Recall: {recall}, F1-Score: {f1}\")\n",
    "\n",
    "# Evaluate the model and save results\n",
    "evaluate_and_save_results(model, test_loader, threshold=0.5)\n"
   ]
  },
  {
   "cell_type": "markdown",
   "metadata": {},
   "source": [
    "## 개별 스코어 값"
   ]
  },
  {
   "cell_type": "code",
   "execution_count": 12,
   "metadata": {},
   "outputs": [
    {
     "name": "stdout",
     "output_type": "stream",
     "text": [
      "Class 0 - Accuracy: 0.8134791951553038\n",
      "Class 1 - Accuracy: 0.9145145536237547\n",
      "Class 2 - Accuracy: 0.7290486423129517\n",
      "Class 3 - Accuracy: 0.8918148075796054\n",
      "Class 4 - Accuracy: 0.9575307677280719\n",
      "Class 5 - Accuracy: 0.9529595624145341\n",
      "Class 6 - Accuracy: 0.9823793709708928\n",
      "Class 7 - Accuracy: 0.7769486227778863\n",
      "Class 8 - Accuracy: 0.9779253760500097\n",
      "Class 9 - Accuracy: 0.9530377026763039\n",
      "Class 10 - Accuracy: 0.9571400664192226\n",
      "Class 11 - Accuracy: 0.9261965227583513\n",
      "Class 12 - Accuracy: 0.9120531353780035\n",
      "Class 13 - Accuracy: 0.996171127173276\n",
      "Class 14 - Accuracy: 0.6226216057823794\n"
     ]
    }
   ],
   "source": [
    "# 정확도 및 F1 스코어 계산\n",
    "accuracy = accuracy_score(all_labels, all_outputs)\n",
    "f1_micro = f1_score(all_labels, all_outputs, average='micro')\n",
    "f1_macro = f1_score(all_labels, all_outputs, average='macro')\n",
    "\n",
    "for idx in range(all_labels.shape[1]):\n",
    "    accuracy_label = accuracy_score(all_labels[:, idx], all_outputs[:, idx])\n",
    "    print(f\"Class {idx} - Accuracy: {accuracy_label}, F1 Score(macro): {f1_macro}, F1 Score(micro): {f1_micro}\")"
   ]
  },
  {
   "cell_type": "code",
   "execution_count": null,
   "metadata": {},
   "outputs": [],
   "source": []
  },
  {
   "cell_type": "code",
   "execution_count": null,
   "metadata": {},
   "outputs": [],
   "source": []
  }
 ],
 "metadata": {
  "kernelspec": {
   "display_name": "nihChest14",
   "language": "python",
   "name": "python3"
  },
  "language_info": {
   "codemirror_mode": {
    "name": "ipython",
    "version": 3
   },
   "file_extension": ".py",
   "mimetype": "text/x-python",
   "name": "python",
   "nbconvert_exporter": "python",
   "pygments_lexer": "ipython3",
   "version": "3.9.18"
  }
 },
 "nbformat": 4,
 "nbformat_minor": 2
}
